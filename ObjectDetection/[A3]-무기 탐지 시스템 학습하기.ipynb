{
 "cells": [
  {
   "cell_type": "markdown",
   "metadata": {},
   "source": [
    "## 3. 학습하기"
   ]
  },
  {
   "cell_type": "code",
   "execution_count": 1,
   "metadata": {},
   "outputs": [
    {
     "name": "stdout",
     "output_type": "stream",
     "text": [
      "\n",
      "Loaded base model.\n",
      "\n",
      "cuda:1\n"
     ]
    }
   ],
   "source": [
    "import torch\n",
    "from torch.utils.data.dataloader import DataLoader\n",
    "import torch.optim as optim\n",
    "import torch.optim.lr_scheduler as scheduler\n",
    "\n",
    "from materials.MultiboxLoss import MultiBoxLoss\n",
    "from materials.datasets import WeaponDataset\n",
    "from materials.utils import *\n",
    "from materials.SSD300 import SSD300\n",
    "\n",
    "device = torch.device(\"cuda:1\" if torch.cuda.is_available() else \"cpu\")\n",
    "\n",
    "# Load model checkpoint\n",
    "model = SSD300(n_classes=2, device=device).to(device)\n",
    "dataset = WeaponDataset(data_folder='./data/Weapon')\n",
    "dataloader = DataLoader(dataset=dataset, batch_size=8, shuffle=True, \n",
    "                              collate_fn=dataset.collate_fn, num_workers=4)\n",
    "\n",
    "criterion = MultiBoxLoss(priors_cxcy=model.create_prior_boxes(), threshold=0.5, \n",
    "                         neg_pos_ratio=0.3, alpha=1.0, device=device)\n",
    "num_epochs = 40\n",
    "lr, momentum, weight_decay = 1e-3, 0.9, 5e-4\n",
    "\n",
    "biases, not_biases = [], []\n",
    "\n",
    "for param_name, param in model.named_parameters():\n",
    "    if param.requires_grad:\n",
    "        if param_name.endswith('.bias'):\n",
    "            biases.append(param)\n",
    "        else:\n",
    "            not_biases.append(param)\n",
    "optimizer = torch.optim.SGD(params=[{'params': biases, 'lr': 2 * lr}, {'params': not_biases}],\n",
    "                            lr=lr, momentum=momentum, weight_decay=weight_decay)\n",
    "\n",
    "#optimizer = optim.SGD(model.parameters(), lr=lr, momentum=momentum, weight_decay=weight_decay, nesterov=False)\n",
    "scheduler = scheduler.CosineAnnealingLR(optimizer, T_max=num_epochs, eta_min=0.00005)\n"
   ]
  },
  {
   "cell_type": "code",
   "execution_count": null,
   "metadata": {},
   "outputs": [
    {
     "name": "stdout",
     "output_type": "stream",
     "text": [
      "Epoch: [0][0/544]\tBatch Time 0.760 (0.760)\tData Time 0.326 (0.326)\tLoss 3.8448 (3.8448)\t\n",
      "Epoch: [0][50/544]\tBatch Time 0.147 (0.159)\tData Time 0.007 (0.014)\tLoss 2.0228 (2.3619)\t\n",
      "Epoch: [0][100/544]\tBatch Time 0.146 (0.153)\tData Time 0.007 (0.011)\tLoss 1.9549 (2.1853)\t\n",
      "Epoch: [0][150/544]\tBatch Time 0.149 (0.151)\tData Time 0.008 (0.010)\tLoss 1.9549 (2.1090)\t\n",
      "Epoch: [0][200/544]\tBatch Time 0.150 (0.150)\tData Time 0.007 (0.009)\tLoss 1.9570 (2.0613)\t\n",
      "Epoch: [0][250/544]\tBatch Time 0.150 (0.150)\tData Time 0.009 (0.009)\tLoss 1.9274 (2.0251)\t\n"
     ]
    }
   ],
   "source": [
    "from materials.train import train\n",
    "import warnings\n",
    "warnings.filterwarnings(\"ignore\")\n",
    "\n",
    "train(model, dataloader, criterion, optimizer, scheduler, num_epochs, \n",
    "      grad_clip=None, print_freq=50, save_name='weapon_test', device='cuda:1')"
   ]
  }
 ],
 "metadata": {
  "kernelspec": {
   "display_name": "Python 3",
   "language": "python",
   "name": "python3"
  },
  "language_info": {
   "codemirror_mode": {
    "name": "ipython",
    "version": 3
   },
   "file_extension": ".py",
   "mimetype": "text/x-python",
   "name": "python",
   "nbconvert_exporter": "python",
   "pygments_lexer": "ipython3",
   "version": "3.7.3"
  }
 },
 "nbformat": 4,
 "nbformat_minor": 2
}
