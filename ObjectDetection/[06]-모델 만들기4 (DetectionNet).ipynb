{
 "cells": [
  {
   "cell_type": "markdown",
   "metadata": {},
   "source": [
    "# [05] 모델 만들기4 - DetectionNet\n",
    "\n",
    "이전 실습에서 만들었던 `BaseConv`, `AuxConv`, `PredConv`를 모두 함께 사용하여 하나의 `nn.Module` Class로 구성해 봅시다. materials.det_modules에 작성되어 있는 해당 모듈들의 예시입니다. 이번 실습에서는 아래의 모듈들을 활용해 `DetectionNet`을 만들어 보겠습니다."
   ]
  },
  {
   "cell_type": "code",
   "execution_count": 1,
   "metadata": {},
   "outputs": [
    {
     "name": "stdout",
     "output_type": "stream",
     "text": [
      "Loaded pretrained weights for efficientnet-b0\n",
      "\n",
      "mid shape torch.Size([4, 112, 18, 18])\n",
      "end shape torch.Size([4, 1280, 9, 9])\n",
      "map a shape : torch.Size([4, 512, 9, 9])\n",
      "map b shape : torch.Size([4, 256, 5, 5])\n",
      "map c shape : torch.Size([4, 256, 3, 3])\n",
      "map d shape : torch.Size([4, 256, 1, 1])\n",
      "\n",
      "Location 예측의 Shape: torch.Size([4, 3106, 4])\n",
      "Clsss Score 예측의 Shape: torch.Size([4, 3106, 20])\n"
     ]
    }
   ],
   "source": [
    "import torch\n",
    "from materials.det_modules import BaseConvolution, AuxConvolution, PredictionConvolution\n",
    "\n",
    "baseconv = BaseConvolution()\n",
    "auxconv = AuxConvolution()\n",
    "predconv = PredictionConvolution()\n",
    "\n",
    "sample = torch.randn(4, 3, 300, 300)\n",
    "mid, end = baseconv(sample)\n",
    "features_a, features_b, features_c , features_d = auxconv(end)\n",
    "locs, cls_scores = predconv(mid, end, features_a, features_b, features_c, features_d)\n",
    "\n",
    "print('\\nmid shape {}'.format(mid.shape))\n",
    "print('end shape {}'.format(end.shape))\n",
    "print('map a shape : {}'.format(features_a.shape))\n",
    "print('map b shape : {}'.format(features_b.shape))\n",
    "print('map c shape : {}'.format(features_c.shape))\n",
    "print('map d shape : {}'.format(features_d.shape))\n",
    "\n",
    "print('\\nLocation 예측의 Shape: {}'.format(locs.shape))\n",
    "print('Clsss Score 예측의 Shape: {}'.format(cls_scores.shape))"
   ]
  },
  {
   "cell_type": "markdown",
   "metadata": {},
   "source": [
    "-------------------\n",
    "## [Task 1] `DetectionNet` 완성하기\n",
    "\n",
    "`DetectionNet`을 완성해 봅시다. 3가지의 모듈을 차례대로 거쳐 출력값을 얻도록 구성합니다. 다만, `mid` featuremap에 대해 normalize한 다음 채널별로 값을 하나씩 곱해 rescale해주고, 이 값들이 학습되도록 할 것입니다.\n",
    "\n",
    "- `__init__()` 함수를 완성합니다. `mid`에 대해 학습되는 Parameter를 곱합니다.\n",
    "\n",
    "- `forward` 함수를 완성합니다. normalize와 rescale의 과정이 포함되어야 합니다."
   ]
  },
  {
   "cell_type": "code",
   "execution_count": 2,
   "metadata": {},
   "outputs": [],
   "source": [
    "import torch\n",
    "import torch.nn as nn\n",
    "import torch.nn.functional as F\n",
    "from materials.det_modules import BaseConvolution, AuxConvolution, PredictionConvolution\n",
    "\n",
    "class DetectionNet(nn.Module):\n",
    "    def __init__(self, n_classes=20, unfreeze_keys=['15', 'head', 'bn1']):\n",
    "        super(DetectionNet, self).__init__()\n",
    "        self.n_classes = n_classes\n",
    "        \n",
    "        # [ToDo]: BaseConv를 구성합니다.\n",
    "        self.base = ???????????????????\n",
    "        \n",
    "        # [ToDo]: AuxConv를 구성합니다.\n",
    "        self.aux = ???????????????????\n",
    "        \n",
    "        # [ToDo]: PredConv를 구성합니다.\n",
    "        self.pred = ???????????????????\n",
    "        \n",
    "        # [ToDo]: mid feature의 각 channel에 곱해줄 parameter를 선언합니다.\n",
    "        self.rescale_mid = nn.Parameter(torch.FloatTensor(?, ?, ?, ?))\n",
    "        \n",
    "        # rescale parameter를 initialize합니다.\n",
    "        nn.init.constant_(self.rescale_mid, 5)\n",
    "        \n",
    "    \n",
    "    def forward(self, images):\n",
    "        # [ToDo]: baseconv를 수행합니다.\n",
    "        mid, end = ???????????????????\n",
    "        \n",
    "        # mid featuremap에 대해 normalize와 rescale을 합니다.\n",
    "        mid = F.normalize(mid)\n",
    "        mid = self.rescale_mid * mid\n",
    "        \n",
    "        # [ToDo]: auxconv를 수행합니다.\n",
    "        a, b, c, d = ???????????????????\n",
    "        \n",
    "        # [ToDo]: predconv를 수행합니다.\n",
    "        locs, cls_scores = ???????????????????\n",
    "        \n",
    "        return locs, cls_scores"
   ]
  },
  {
   "cell_type": "code",
   "execution_count": 3,
   "metadata": {},
   "outputs": [
    {
     "name": "stdout",
     "output_type": "stream",
     "text": [
      "Loaded pretrained weights for efficientnet-b0\n",
      "\n",
      "Location 예측의 Shape: torch.Size([4, 3106, 4])\n",
      "Clsss Score 예측의 Shape: torch.Size([4, 3106, 20])\n"
     ]
    }
   ],
   "source": [
    "sample = torch.randn(4, 3, 300, 300)\n",
    "net = DetectionNet(n_classes=20, unfreeze_keys=['15', 'head', 'bn1'])\n",
    "locs, cls_scores = net(sample)\n",
    "\n",
    "print('\\nLocation 예측의 Shape: {}'.format(locs.shape))\n",
    "print('Clsss Score 예측의 Shape: {}'.format(cls_scores.shape))"
   ]
  },
  {
   "cell_type": "markdown",
   "metadata": {},
   "source": [
    "---------\n",
    "### <생각해 봅시다>\n",
    "\n",
    "- normalize와 rescale의 과정은 왜 필요할까요?\n",
    "- rescale parameter들은 어떻게 변할까요?\n",
    "\n",
    "------------"
   ]
  }
 ],
 "metadata": {
  "kernelspec": {
   "display_name": "Python 3",
   "language": "python",
   "name": "python3"
  },
  "language_info": {
   "codemirror_mode": {
    "name": "ipython",
    "version": 3
   },
   "file_extension": ".py",
   "mimetype": "text/x-python",
   "name": "python",
   "nbconvert_exporter": "python",
   "pygments_lexer": "ipython3",
   "version": "3.7.3"
  }
 },
 "nbformat": 4,
 "nbformat_minor": 2
}
