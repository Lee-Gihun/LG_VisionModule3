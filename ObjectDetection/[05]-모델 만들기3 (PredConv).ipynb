{
 "cells": [
  {
   "cell_type": "markdown",
   "metadata": {},
   "source": [
    "# [05] 모델 만들기3 - PredConv\n",
    "\n",
    "`PredConv`는 `BaseConv`와 `AuxConv`를 거쳐 얻은 여러 스케일의 featuremap으로부터 bounding box의 좌표들과 class들에 대한 score를 예측하는 모듈입니다. `PredConv`의 예측을 바탕으로 학습을 진행하고, 학습 이후에 실제 활용하는 과정에서도 `PredConv`의 출력값을 이용하게 됩니다."
   ]
  },
  {
   "cell_type": "markdown",
   "metadata": {},
   "source": [
    "---------------\n",
    "`PredConv` 는 이전의 단계에서 얻었던 각 featuemap을 Conv Layer들을 통과시켜 다음을 얻습니다.\n",
    "\n",
    "- featuremap크기 x bounding box의 좌표 4개의 값 x box개수\n",
    "- class 정보에 해당하는 1개의 값 x class의 개수\n",
    "\n",
    "각 feature map에서 예측하는 box의 개수는 미리 정해야 하는 하이퍼파라미터(Hyperparameter)에 해당하는 값입니다. 아래는 (5x5x256)의 dimension의 featuremap을 입력했을 때 `PredConv`의 출력값에 대한 예시입니다. featuremap의 각 위치로부터 box의 좌표 4개의 값과 각 위치에서 예측할 box의 개수 6개를 곱한 24개의 값을 얻는다는 것을 표현하고 있습니다. Class정보의 경우 각 위치에서 box마다 매겨주기 때문에 box의 개수 6개와 class 개수를 곱한 값을 얻게 됩니다.\n",
    "\n",
    "예를 들어, class 개수가 20개일 때, 최종적으로 얻게 되는 출력값의 차원은 다음과 같습니다.\n",
    "- Loc(박스예측) : (5x5) x (4) x (6)\n",
    "- Cls(클래스예측) : (5x5) x (20) x (6)\n",
    "\n",
    "- [참고] SSD(Single Shot Multibox Detector) 논문 : https://arxiv.org/pdf/1512.02325.pdf"
   ]
  },
  {
   "cell_type": "code",
   "execution_count": null,
   "metadata": {},
   "outputs": [],
   "source": [
    "from IPython.display import HTML, display\n",
    "\n",
    "# Image from https://github.com/sgrvinod/a-PyTorch-Tutorial-to-Object-Detection\n",
    "display(HTML(\"<img src='img/[05]predconv.png'>\"))"
   ]
  },
  {
   "cell_type": "markdown",
   "metadata": {},
   "source": [
    "-------------------\n",
    "## [Task 1] `PredConv`로 Box좌표와 Class Score 얻기\n",
    "\n",
    "`PredConv`에서 박스의 좌표와 클래스 점수를 얻는 방법에 대해 실습해 보도록 하겠습니다. 먼저, 아래의 코드를 실행하여 우리가 `PredConv`에 입력할 6개의 featuremap을 `BaseConv`와 `AuxConv`를 거쳐 얻습니다."
   ]
  },
  {
   "cell_type": "code",
   "execution_count": 1,
   "metadata": {},
   "outputs": [
    {
     "name": "stdout",
     "output_type": "stream",
     "text": [
      "Loaded pretrained weights for efficientnet-b0\n",
      "\n",
      "mid shape torch.Size([4, 112, 18, 18])\n",
      "end shape torch.Size([4, 1280, 9, 9])\n",
      "map a shape : torch.Size([4, 512, 9, 9])\n",
      "map b shape : torch.Size([4, 256, 5, 5])\n",
      "map c shape : torch.Size([4, 256, 3, 3])\n",
      "map d shape : torch.Size([4, 256, 1, 1])\n"
     ]
    }
   ],
   "source": [
    "import torch\n",
    "from materials.det_modules import BaseConvolution, AuxConvolution\n",
    "\n",
    "baseconv = BaseConvolution()\n",
    "auxconv = AuxConvolution()\n",
    "\n",
    "sample = torch.randn(4, 3, 300, 300)\n",
    "mid, end = baseconv(sample)\n",
    "features_a, features_b, features_c , features_d = auxconv(end)\n",
    "\n",
    "print('\\nmid shape {}'.format(mid.shape))\n",
    "print('end shape {}'.format(end.shape))\n",
    "print('map a shape : {}'.format(features_a.shape))\n",
    "print('map b shape : {}'.format(features_b.shape))\n",
    "print('map c shape : {}'.format(features_c.shape))\n",
    "print('map d shape : {}'.format(features_d.shape))"
   ]
  },
  {
   "cell_type": "markdown",
   "metadata": {},
   "source": [
    "### ToDo : PredConv 연습하기\n",
    "\n",
    "먼저, 아래의 `predconv_practice`함수를 완성하여 5x5의 feature map에서 box와 class정보를 얻어봅시다.. 필요한 구성은 다음과 같습니다.\n",
    "\n",
    "- 예측할 box의 개수 : 6개\n",
    "\n",
    "- `location_conv` : 3x3 conv를 사용합니다. 5x5의 shape은 유지합니다.\n",
    "\n",
    "- `class_conv` : 3x3 conv를 사용합니다. 5x5의 shape은 유지합니다.\n",
    "\n",
    "Feature map의 각 위치마다 예측을 해야 하려면 출력값의 shape이 어떤 형태를 가져야 하는지 고민해 아래 코드를 완성해 봅시다."
   ]
  },
  {
   "cell_type": "code",
   "execution_count": 2,
   "metadata": {},
   "outputs": [
    {
     "name": "stdout",
     "output_type": "stream",
     "text": [
      "Box Prediction의 차원: torch.Size([4, 24, 9, 9])\n",
      "Class Score Prediction의 차원: torch.Size([4, 120, 9, 9])\n"
     ]
    }
   ],
   "source": [
    "import torch\n",
    "import torch.nn as nn\n",
    "import torch.nn.functional as F\n",
    "\n",
    "\n",
    "def predconv_practice(features_a):\n",
    "    num_boxes = 6\n",
    "    class_num = 20\n",
    "    \n",
    "    # [ToDo]: loc_conv를 구성합니다.\n",
    "    loc_conv = ??????????????????????????????????????\n",
    "    \n",
    "    # [ToDo]: cls_conv를 구성합니다.\n",
    "    cls_conv = ??????????????????????????????????????\n",
    "    \n",
    "    loc_pred = loc_conv(features_a)\n",
    "    cls_pred = cls_conv(features_a)\n",
    "    \n",
    "    return loc_pred, cls_pred\n",
    "\n",
    "example = torch.randn(4, 512, 9, 9)\n",
    "loc_pred, cls_pred = predconv_practice(example)\n",
    "\n",
    "print('Box Prediction의 차원: {}'.format(loc_pred.shape))\n",
    "print('Class Score Prediction의 차원: {}'.format(cls_pred.shape))\n"
   ]
  },
  {
   "cell_type": "markdown",
   "metadata": {},
   "source": [
    "-------------------\n",
    "## [Task 2] Box 기준으로 정렬하기\n",
    "\n",
    "우리가 최종적으로 얻고자 하는 것은 객체(Object)에 대한 Bounding Box와 그에 대한 Class 정보라는 것을 기억해 봅시다. 예측값들을 Box에 대해 표현함으로써 학습과정에서 이후의 Loss 계산과 실제 탐지(Detection)과정에서 필요한 Box들을 추출해내는 작업을 보다 손쉽게 할 수 있습니다.\n",
    "\n",
    "이번 Task에서는 앞에서 얻은 Box와 Class에 대한 예측값을\n",
    "\n",
    "- Loc Pred : (box idx, 4x박스개수)\n",
    "- Cls Pred : (box idx, class 개수)\n",
    "\n",
    "의 차원을 가지는 함수를 만들어 봅시다."
   ]
  },
  {
   "cell_type": "markdown",
   "metadata": {},
   "source": [
    "### ToDo : Box 기준으로 Dimension 바꾸기\n",
    "\n",
    "1. Tensor의 축을 바꿉니다.\n",
    "\n",
    "    - (B, 4 x 각 위치의 box 개수, H, W) --> (B, H, W, 4x각 위치의 box 개수)\n",
    "\n",
    "    - (B, num_class x 각 위치의 box개수, H, W) --> (B, H, W, num_class x 각 위치의 box 개수)\n",
    "\n",
    "2. Box 기준으로 Shape을 바꿉니다.\n",
    "    - (B, Box 개수, 4)\n",
    "    - (B, Box 개수, class_num)"
   ]
  },
  {
   "cell_type": "code",
   "execution_count": null,
   "metadata": {},
   "outputs": [],
   "source": [
    "import torch\n",
    "\n",
    "loc_example = torch.zeros_like(loc_pred)\n",
    "cls_example = torch.zeros_like(cls_pred)\n",
    "\n",
    "\n",
    "def box_align(tensor, mode='loc'):\n",
    "    num_classes = 20\n",
    "    \n",
    "    # batch_size(B)를 저장합니다.\n",
    "    batch_size = tensor.size(0)\n",
    "    \n",
    "    # [ToDo]: (B, box정보, H, W) --> (B, H, W, box정보)\n",
    "    tensor = tensor.permute(?, ?, ?, ?)\n",
    "    \n",
    "    # tensor를 permute된 상태로 확정합니다.\n",
    "    tensor = tensor.contiguous()\n",
    "    \n",
    "    if mode == 'loc':\n",
    "        # tensor를 (B, Box개수, 4)의 형태로 바꿉니다.\n",
    "        tensor = tensor.view(?, ?, ?)\n",
    "        \n",
    "    elif mode == 'cls':\n",
    "        # [ToDo]: tensor를 (B, Box개수, num_classes)의 형태로 바꿉니다.\n",
    "        tensor = tensor.view(?, ?, ?)\n",
    "    \n",
    "    return tensor\n",
    "\n",
    "loc_reshaped = box_align(loc_example, mode='loc')\n",
    "cls_reshaped = box_align(cls_example, mode='cls')\n",
    "\n",
    "print('Box Prediction의 차원: {}'.format(loc_reshaped.shape))\n",
    "print('Class Score Prediction의 차원: {}'.format(cls_reshaped.shape))\n"
   ]
  },
  {
   "cell_type": "markdown",
   "metadata": {},
   "source": [
    "------------\n",
    "## [Task 3] PredictionConvolution Class\n",
    "\n",
    "`PredConv`도 이전 실습의 `nn.Module` Class로 만들어봅시다.\n",
    "\n",
    "### ToDo: nn.Module Class로 통합하기\n",
    "\n",
    "`__init__()` 함수를 완성합니다. 각 featuremap마다 Box Location, Class Score를 예측하기 위한 Conv층을 각각 1개씩 정의합니다. 각 featuremap마다 예측을 위한 Box의 개수는 `n_boxes`로 미리 지정되어 있습니다.\n",
    "\n",
    "`_box_align` 이전 Task에서 완성한 box_align 함수를 사용합니다.\n",
    "\n",
    "`forward` 함수를 완성합니다.\n",
    "- 각 featuremap으로부터 Box Location과 Class Score를 예측합니다.\n",
    "- _box_align을 거쳐 box 의 차원을 조정합니다.\n",
    "- Location끼리, Score끼리 예측치들을 concatenation해서 출력합니다."
   ]
  },
  {
   "cell_type": "code",
   "execution_count": 4,
   "metadata": {},
   "outputs": [],
   "source": [
    "import torch.nn as nn\n",
    "import torch.nn.functional as F\n",
    "\n",
    "class PredictionConvolutions(nn.Module):\n",
    "    def __init__(self, n_classes=20, use_bias=False):\n",
    "        super(PredictionConvolutions, self).__init__()\n",
    "        self.n_classes = n_classes\n",
    "        \n",
    "        # 각 featuremap에서 예측할 box의 개수를 지정합니다.\n",
    "        n_boxes = {'mid': 6, 'end': 6, 'a': 6,\n",
    "                   'b': 6, 'c': 4, 'd': 4}\n",
    "        \n",
    "        # box의 좌표를 예측할 conv layer를 구성합니다.\n",
    "        self.loc_mid = nn.Conv2d(112, n_boxes['mid'] * 4, kernel_size=3, stride=1, padding=1, bias=use_bias)\n",
    "        self.loc_end = nn.Conv2d(1280, n_boxes['end'] * 4, kernel_size=3, stride=1, padding=1, bias=use_bias)\n",
    "        self.loc_a = nn.Conv2d(512, n_boxes['a'] * 4, kernel_size=3, stride=1, padding=1, bias=use_bias)\n",
    "        self.loc_b = nn.Conv2d(256, n_boxes['b'] * 4, kernel_size=3, stride=1, padding=1, bias=use_bias)\n",
    "        self.loc_c = nn.Conv2d(256, n_boxes['c'] * 4, kernel_size=3, stride=1, padding=1, bias=use_bias)\n",
    "        self.loc_d = nn.Conv2d(256, n_boxes['c'] * 4, kernel_size=3, stride=1, padding=1, bias=use_bias)\n",
    "        \n",
    "        # box의 class를 예측할 conv layer를 예측합니다.\n",
    "        self.cls_mid = nn.Conv2d(112, n_boxes['mid'] * n_classes, kernel_size=3, stride=1, padding=1, bias=use_bias)\n",
    "        self.cls_end = nn.Conv2d(1280, n_boxes['end'] * n_classes, kernel_size=3, stride=1, padding=1, bias=use_bias)  \n",
    "        self.cls_a = nn.Conv2d(512, n_boxes['a'] * n_classes, kernel_size=3, stride=1, padding=1, bias=use_bias)\n",
    "        self.cls_b = nn.Conv2d(256, n_boxes['b'] * n_classes, kernel_size=3, stride=1, padding=1, bias=use_bias)\n",
    "        self.cls_c = nn.Conv2d(256, n_boxes['c'] * n_classes, kernel_size=3, stride=1, padding=1, bias=use_bias)\n",
    "        self.cls_d = nn.Conv2d(256, n_boxes['d'] * n_classes, kernel_size=3, stride=1, padding=1, bias=use_bias)\n",
    "        \n",
    "        self.init__conv2d(use_bias)\n",
    "        \n",
    "    def init__conv2d(self, use_bias=False):\n",
    "        for c in self.children():\n",
    "            if isinstance(c, nn.Conv2d):\n",
    "                nn.init.xavier_uniform_(c.weight)\n",
    "                if use_bias:\n",
    "                    nn.init.constant_(c.bias, 0.)\n",
    "                    \n",
    "                    \n",
    "    def forward(self, mid, end, a, b, c, d):\n",
    "        \n",
    "        # [ToDo]: box 정보를 예측합니다.\n",
    "        l_mid = ???????????????????\n",
    "        l_end = ???????????????????\n",
    "        l_a = ???????????????????\n",
    "        l_b = ???????????????????\n",
    "        l_c = ???????????????????\n",
    "        l_d = ???????????????????\n",
    "        \n",
    "        # [ToDo]: self._box_align을 사용해 Box의 Align을 맞춰좁니다.\n",
    "        l_mid = ???????????????????\n",
    "        l_end = ???????????????????\n",
    "        l_a = ???????????????????\n",
    "        l_b = ???????????????????\n",
    "        l_c = s???????????????????\n",
    "        l_d = ???????????????????\n",
    "\n",
    "        # [ToDo]: box의 class를 예측합니다.\n",
    "        c_mid = ???????????????????\n",
    "        c_end = ???????????????????\n",
    "        c_a = ???????????????????\n",
    "        c_b = ???????????????????\n",
    "        c_c = s???????????????????\n",
    "        c_d = ???????????????????\n",
    "        \n",
    "        # [ToDo]: self._box_align을 사용해 Box의 Align을 맞춰좁니다.\n",
    "        c_mid = ???????????????????\n",
    "        c_end = ???????????????????\n",
    "        c_a = ???????????????????\n",
    "        c_b = ???????????????????\n",
    "        c_c = ???????????????????\n",
    "        c_d = ???????????????????\n",
    "        \n",
    "        # box좌표, class값을 각각 하나의 tensor로 구성합니다.\n",
    "        locs = torch.cat([l_mid, l_end, l_a, l_b, l_c, l_d], dim=1)\n",
    "        cls_scores = torch.cat([c_mid, c_end, c_a, c_b, c_c, c_d], dim=1)\n",
    "        \n",
    "        return locs, cls_scores\n",
    "    \n",
    "    def _box_align(self, tensor, mode='loc'):\n",
    "        batch_size = tensor.size(0)\n",
    "        tensor = tensor.permute(0, 2, 3, 1).contiguous()\n",
    "        \n",
    "        if mode == 'loc':\n",
    "            tensor = tensor.view(batch_size, -1, 4)\n",
    "        \n",
    "        elif mode == 'cls':\n",
    "            tensor = tensor.view(batch_size, -1, self.n_classes)\n",
    "            \n",
    "        return tensor\n",
    "\n",
    "        "
   ]
  },
  {
   "cell_type": "code",
   "execution_count": 5,
   "metadata": {},
   "outputs": [
    {
     "name": "stdout",
     "output_type": "stream",
     "text": [
      "Location 예측의 Shape: torch.Size([4, 3106, 4])\n",
      "Clsss Score 예측의 Shape: torch.Size([4, 3106, 20])\n"
     ]
    }
   ],
   "source": [
    "predcovtest = PredictionConvolutions(n_classes=20)\n",
    "locs, cls_scores = predcovtest(mid, end, features_a, features_b, features_c, features_d)\n",
    "\n",
    "print('Location 예측의 Shape: {}'.format(locs.shape))\n",
    "print('Clsss Score 예측의 Shape: {}'.format(cls_scores.shape))"
   ]
  },
  {
   "cell_type": "markdown",
   "metadata": {},
   "source": [
    "---------\n",
    "### <생각해 봅시다>\n",
    "\n",
    "- 각 featuremap마다 예측하는 Box의 개수의 증감에 따른 장단점은 무엇일까요?\n",
    "- 왜 `PredConv`에서 예측을 위해 3x3 conv를 사용할 때 출력 featuremap의 크기를 유지할까요?\n",
    "\n",
    "------------"
   ]
  }
 ],
 "metadata": {
  "kernelspec": {
   "display_name": "Python 3",
   "language": "python",
   "name": "python3"
  },
  "language_info": {
   "codemirror_mode": {
    "name": "ipython",
    "version": 3
   },
   "file_extension": ".py",
   "mimetype": "text/x-python",
   "name": "python",
   "nbconvert_exporter": "python",
   "pygments_lexer": "ipython3",
   "version": "3.7.3"
  }
 },
 "nbformat": 4,
 "nbformat_minor": 2
}
