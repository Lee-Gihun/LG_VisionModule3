{
 "cells": [
  {
   "cell_type": "markdown",
   "metadata": {},
   "source": [
    "-------------------\n",
    "## 1. 데이터 살펴보기\n",
    "\n",
    "본격적으로 데이터를 살펴보기에 앞서, 이미지 데이터와 라벨(Annotation)데이터를 연결해 보도록 하겠습니다.\n",
    "\n",
    "다행히, 이미지 데이터와 라벨 데이터는 확장자 (.jpg, .txt)만 다를 뿐 파일명은 동일합니다.\n",
    "\n",
    "### [Task 1] 데이터-라벨 연결하기\n",
    "<실습 목표> : \n",
    "- **`annotation_file`** 함수를 완성합니다.\n",
    "- **`annotation_file`** 함수는 .jpg 파일 이름을 입력했을 때, .txt 확장자로 바꾼 이름을 리턴합니다.\n"
   ]
  },
  {
   "cell_type": "code",
   "execution_count": null,
   "metadata": {},
   "outputs": [],
   "source": [
    "import glob\n",
    "\n",
    "image_files = list(sorted(glob.glob('./data/Weapon/TrainData/*.jpg'))) # image file명을 list로 저장합니다.\n",
    "annotation_files = list(sorted(glob.glob('./data/Weapon/TrainData/*txt'))) # annotation file명을 list로 저장합니다.\n",
    "\n",
    "print(\"총 데이터 개수: %d\\n\" % len(image_files))\n",
    "\n",
    "print('Image 파일명 예시: %s' % image_files[0])\n",
    "print('Annotation 파일명 예시: %s \\n' % annotation_files[0])"
   ]
  },
  {
   "cell_type": "code",
   "execution_count": null,
   "metadata": {},
   "outputs": [],
   "source": [
    "def annotation_file(file_name):\n",
    "    \"\"\"\n",
    "    (str) file_name : *.jpg 형태의 파일 이름 \n",
    "    \"\"\"\n",
    "    ## [ToDo]: 데이터-라벨 연결하기 ######\n",
    "    file_name = ?????????????????????\n",
    "\n",
    "    ######################################\n",
    "    \n",
    "    return file_name\n",
    "\n",
    "\n",
    "# 함수의 작동을 확인합니다.\n",
    "import random\n",
    "\n",
    "file = image_files[random.randint(0, 4375)]\n",
    "print('Image 파일명: %s \\n' % file)\n",
    "\n",
    "annotation = annotation_file(file)\n",
    "print('Annotation 파일명: %s \\n' % annotation)"
   ]
  },
  {
   "cell_type": "markdown",
   "metadata": {},
   "source": [
    "-------------------\n",
    "## 1. 데이터 살펴보기 (2) - 예시 데이터 출력하기\n",
    "\n",
    "이번에는 데이터의 이미지를 출력하고, 데이터셋에 대한 개략적인 정보를 살펴보도록 하겠습니다.\n",
    "\n",
    "(이미지가 보이지 않는 경우, 다시 실행해 보세요!)"
   ]
  },
  {
   "cell_type": "code",
   "execution_count": null,
   "metadata": {},
   "outputs": [],
   "source": [
    "import matplotlib.pyplot as plt\n",
    "import matplotlib.patches as patches\n",
    "from PIL import Image\n",
    "import numpy as np\n",
    "import pandas as pd\n",
    "\n",
    "# 예시 파일을 설정합니다.\n",
    "file = './data/Weapon/TrainData/PUBGGunsInRealLife!06681.jpg'\n",
    "\n",
    "# 이미지를 불러옵니다.\n",
    "im = np.array(Image.open(file), dtype=np.uint8)\n",
    "\n",
    "# 이미지를 출력합니다.\n",
    "fig,ax = plt.subplots(1)\n",
    "ax.imshow(im)\n",
    "# 이미지의 shape을 출력합니다.\n",
    "print(\"높이(Height): %d, 너비(Width) %d, 채널(Channel): %d\" % (im.shape))\n",
    "print(\"픽셀 최댓값: %2.1f, 픽셀 최솟값: %2.1f\\n\" % (np.max(im), np.min(im)))"
   ]
  },
  {
   "cell_type": "markdown",
   "metadata": {},
   "source": [
    "-----------\n",
    "### [Task 2] 데이터 위에 라벨 표시하기\n",
    "<실습 목표> : \n",
    "- **`box_setter`** 함수를 완성합니다.\n",
    "\n",
    "- **`annotation_getter`** 함수 .jpg 파일 이름을 입력했을 때, Bounding Box의 정보(x0, y0, h, w)를 출력합니다.\n",
    "    - (x0, y0) <-- Bounding Box의 Upper Left 꼭짓점\n",
    "    - (h, w) <-- Bounding Box의 높이와 너비\n",
    "    \n",
    "    \n",
    "- **`annotation_getter`** 함수를 이용해 이미지 위에 Bounding Box를 표시해 봅니다.\n",
    "\n",
    "현재 .txt 파일에 저장되어 있는 bounding box는 (x_center, y_center, box_w, box_h)로 구성되어 있고, 이미지의 너비와 높이에 대한 상대적인 비율로 값이 설정되어 있습니다. 이 값이 **`annotation_getter`** 에서 요구되는 리턴값으로 출력될 수 있도록 함수를 완성해 봅시다."
   ]
  },
  {
   "cell_type": "code",
   "execution_count": null,
   "metadata": {},
   "outputs": [],
   "source": [
    "# [ToDo]: box_setter 함수를 완성합니다.\n",
    "def box_setter(x_center, y_center, box_w, box_h, img_w, img_h):\n",
    "    \n",
    "    w = ????? * ?????\n",
    "    h = ????? * ?????\n",
    "    x0 = max((????? * ?????) - (w/2), 0)\n",
    "    y0 = max((????? * ?????) - (h/2), 0)\n",
    "    \n",
    "    return x0, y0, w, h\n",
    "\n",
    "\n",
    "def annotation_getter(file, img_w, img_h):\n",
    "    file_anno = annotation_file(file)\n",
    "    bounding_boxes = []\n",
    "    \n",
    "    # annotation 파일의 데이터를 불러와 출력합니다.\n",
    "    df = pd.read_csv(file_anno, sep=' ', names=['cx', 'cy', 'w', 'h'])\n",
    "    print('Boundig Box 좌표:')\n",
    "    print(df)\n",
    "    print()\n",
    "    for i in range(df.shape[0]):\n",
    "        x_center, y_center, box_w, box_h = df.iloc[i]\n",
    "        x0, y0, w, h = box_setter(x_center, y_center, box_w, box_h, img_w, img_h)\n",
    "        \n",
    "        print('수정된 Bounding Box [%d]: (x0: %2.1f, y0: %2.1f, w: %2.1f, h: %2.1f)' % (i, x0, y0, w, h))\n",
    "        rect = patches.Rectangle((x0, y0),w,h,linewidth=1,edgecolor='r',facecolor='none')\n",
    "        bounding_boxes.append(rect)\n",
    "    \n",
    "    print()\n",
    "    \n",
    "    return bounding_boxes\n",
    "\n",
    "im = np.array(Image.open(file), dtype=np.uint8)\n",
    "img_h, img_w, _ = im.shape \n",
    "\n",
    "bounding_boxes = annotation_getter(file, img_w, img_h)"
   ]
  },
  {
   "cell_type": "code",
   "execution_count": null,
   "metadata": {},
   "outputs": [],
   "source": [
    "def img_anno_shower():\n",
    "    # 이미지를 불러옵니다.\n",
    "    file = './data/Weapon/TrainData/PUBGGunsInRealLife!06681.jpg'\n",
    "    im = np.array(Image.open(file), dtype=np.uint8)\n",
    "\n",
    "    # 이미지를 출력합니다.\n",
    "    fig,ax = plt.subplots(1)\n",
    "    ax.imshow(im)\n",
    "\n",
    "    # 이미지의 shape을 저장합니다. \n",
    "    img_h, img_w, _ = im.shape\n",
    "    \n",
    "    # bounding box를 그립니다.\n",
    "    bounding_boxes = annotation_getter(file, img_w, img_h)\n",
    "    for box in bounding_boxes:\n",
    "        ax.add_patch(box)\n",
    "        \n",
    "    plt.show()\n",
    "    \n",
    "img_anno_shower()"
   ]
  }
 ],
 "metadata": {
  "kernelspec": {
   "display_name": "Python 3",
   "language": "python",
   "name": "python3"
  },
  "language_info": {
   "codemirror_mode": {
    "name": "ipython",
    "version": 3
   },
   "file_extension": ".py",
   "mimetype": "text/x-python",
   "name": "python",
   "nbconvert_exporter": "python",
   "pygments_lexer": "ipython3",
   "version": "3.7.3"
  }
 },
 "nbformat": 4,
 "nbformat_minor": 2
}
