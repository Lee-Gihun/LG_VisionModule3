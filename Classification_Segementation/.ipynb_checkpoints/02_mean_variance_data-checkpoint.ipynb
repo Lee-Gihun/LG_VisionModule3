{
 "cells": [
  {
   "cell_type": "markdown",
   "metadata": {},
   "source": [
    "# __패키지__\n",
    "## __numpy__  \n",
    "- Numerical Python의 줄임말로 고성능의 과학계산 컴퓨팅을 하는 데이터 분석에 많이 쓰임.\n",
    "- Vector, matrix 등 계산에 굉장히 편함.\n",
    "\n",
    "## __os__\n",
    "- Operating System의 약자로서 운영체제에서 제공되는 여러 기능을 수행하게 해줌.\n",
    "- 폴더를 만들거나, 폴더 내일 파일들의 이름을 불러오거나 등을 함.\n",
    "\n",
    "## __cv2__\n",
    "- Opencv 패키지\n",
    "- 이미지 파일 읽기, 화면에 표시하기, 이미지 파일 쓰기"
   ]
  },
  {
   "cell_type": "code",
   "execution_count": 7,
   "metadata": {},
   "outputs": [],
   "source": [
    "import numpy as np\n",
    "import os\n",
    "import cv2"
   ]
  },
  {
   "cell_type": "markdown",
   "metadata": {},
   "source": [
    "## 경로 불러오기\n",
    "- 경로내의 파일 이름들을 불러옴 (images)."
   ]
  },
  {
   "cell_type": "code",
   "execution_count": 8,
   "metadata": {},
   "outputs": [],
   "source": [
    "path = './COVID19-DATASET/train/covid19'\n",
    "images = os.listdir('./COVID19-DATASET/train/covid19')"
   ]
  },
  {
   "cell_type": "markdown",
   "metadata": {},
   "source": [
    "- 기본적으로 image파일을 imread로 읽게 되면 픽셀 값이 (0,255)의 값을 가지게 됨.\n",
    "- 하지만, 계산의 편의를 위해 (0,1) 사이의 값으로 받음.\n",
    "- 더 구체적으로는 정수형의 픽셀들을 실수형으로 바꿔주기 위함임.\n",
    "- 이후, 이것의 mean, variance를 구해 이후 transformation에서의 mean variance를 쉽게 구하려고 함."
   ]
  },
  {
   "cell_type": "markdown",
   "metadata": {},
   "source": [
    "## 함수 형태로 만들기"
   ]
  },
  {
   "cell_type": "code",
   "execution_count": 32,
   "metadata": {},
   "outputs": [],
   "source": [
    "def _get_mean(path):\n",
    "    tmps = os.listdir(path)\n",
    "    \n",
    "    R_channel = 0\n",
    "    G_channel = 0\n",
    "    B_channel = 0\n",
    "\n",
    "    total_pixel = 0\n",
    "    for tmp in tmps:\n",
    "        PATH = os.path.join(path, tmp)\n",
    "        images = os.listdir(PATH)\n",
    "        for image in images:\n",
    "            img = cv2.imread(os.path.join(PATH, image))\n",
    "            # print (img.shape)\n",
    "            img = img / 255\n",
    "            total_pixel += img.shape[0] * img.shape[1]\n",
    "\n",
    "            R_channel += np.sum(img[:, :, 0])\n",
    "            G_channel += np.sum(img[:, :, 1])\n",
    "            B_channel += np.sum(img[:, :, 2])\n",
    "\n",
    "    R_mean = R_channel / total_pixel\n",
    "    G_mean = G_channel / total_pixel\n",
    "    B_mean = B_channel / total_pixel\n",
    "    \n",
    "    return R_mean, G_mean, B_mean"
   ]
  },
  {
   "cell_type": "code",
   "execution_count": 35,
   "metadata": {},
   "outputs": [],
   "source": [
    "def _get_var(path):\n",
    "    tmps = os.listdir(path)\n",
    "    R_mean, G_mean, B_mean = _get_mean(path)\n",
    "    \n",
    "    R_channel = 0\n",
    "    G_channel = 0\n",
    "    B_channel = 0\n",
    "    total_pixel = 0\n",
    "    \n",
    "    for tmp in tmps:\n",
    "        PATH = os.path.join(path, tmp)\n",
    "        images = os.listdir(PATH)\n",
    "        for image in images:\n",
    "            #print(image)\n",
    "            img = cv2.imread(os.path.join(PATH, image))\n",
    "            # print (img.shape)\n",
    "            img = img / 255\n",
    "            total_pixel += img.shape[0] * img.shape[1]\n",
    "\n",
    "            R_channel += np.sum((img[:, :, 0] - R_mean) ** 2)\n",
    "            G_channel += np.sum((img[:, :, 1] - G_mean) ** 2)\n",
    "            B_channel += np.sum((img[:, :, 2] - B_mean) ** 2)\n",
    "\n",
    "    R_std = np.sqrt(R_channel / total_pixel)\n",
    "    G_std = np.sqrt(G_channel / total_pixel)\n",
    "    B_std = np.sqrt(B_channel / total_pixel)\n",
    "    \n",
    "    return R_std, G_std, B_std"
   ]
  },
  {
   "cell_type": "code",
   "execution_count": 34,
   "metadata": {},
   "outputs": [
    {
     "data": {
      "text/plain": [
       "(0.49978348833998376, 0.4986975415286573, 0.4990805965988509)"
      ]
     },
     "execution_count": 34,
     "metadata": {},
     "output_type": "execute_result"
    }
   ],
   "source": [
    "_get_mean('./COVID19-DATASET/train/')"
   ]
  }
 ],
 "metadata": {
  "kernelspec": {
   "display_name": "Python 3",
   "language": "python",
   "name": "python3"
  },
  "language_info": {
   "codemirror_mode": {
    "name": "ipython",
    "version": 3
   },
   "file_extension": ".py",
   "mimetype": "text/x-python",
   "name": "python",
   "nbconvert_exporter": "python",
   "pygments_lexer": "ipython3",
   "version": "3.7.3"
  }
 },
 "nbformat": 4,
 "nbformat_minor": 4
}
