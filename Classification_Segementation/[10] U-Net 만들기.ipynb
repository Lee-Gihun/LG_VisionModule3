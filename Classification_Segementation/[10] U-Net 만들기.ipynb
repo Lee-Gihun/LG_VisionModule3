{
 "cells": [
  {
   "cell_type": "markdown",
   "metadata": {},
   "source": [
    "# [10] Segmentation 신경망 만들기\n",
    "\n",
    "본 실습에서는 바이오 메디컬 이미지 세그멘테이션에서 가장 대중적으로 사용되는 `U-Net`을 구현해보겠습니다.\n",
    "\n",
    "`U-Net`은 비단 메디컬 이미지 분야 뿐만 아니라 날씨 예측 등 많은 곳에서 회자되는 네트워크 구조입니다.\n",
    "\n",
    "End-to-End로 Segmentation하는 심플하고 효과적인 방법이기도 합니다."
   ]
  },
  {
   "cell_type": "markdown",
   "metadata": {},
   "source": [
    "https://arxiv.org/abs/1505.04597 : 본 논문의 링크입니다"
   ]
  },
  {
   "cell_type": "markdown",
   "metadata": {},
   "source": [
    "## 왜 U-Net인가?\n",
    "\n",
    "네트워크 구성의 형태 (`U`)로 인해 U-Net 이라는 이름이 붙여졌습니다.\n",
    "\n",
    "![U_net_overview](./imgs/U_Net_overview.png)"
   ]
  },
  {
   "cell_type": "markdown",
   "metadata": {},
   "source": [
    "U-Net은 이미지의 다양한 컨텍스트 (특징) 정보를 얻기 위한 부분과 Localization (지역화)를 위한 부분이 대칭을 이루어 붙여진 형태입니다.\n",
    "\n",
    "아래의 자료는 https://medium.com/@msmapark2/u-net-%EB%85%BC%EB%AC%B8-%EB%A6%AC%EB%B7%B0-u-net-convolutional-networks-for-biomedical-image-segmentation-456d6901b28a 를 참고하였습니다."
   ]
  },
  {
   "cell_type": "markdown",
   "metadata": {},
   "source": [
    "![contracting_path](./imgs/contracting_path.png)"
   ]
  },
  {
   "cell_type": "markdown",
   "metadata": {},
   "source": [
    "![expanding_path](./imgs/expanding_path.png)"
   ]
  },
  {
   "cell_type": "markdown",
   "metadata": {},
   "source": [
    "![skip_architecture](./imgs/skip_architecture.png)"
   ]
  },
  {
   "cell_type": "code",
   "execution_count": 2,
   "metadata": {},
   "outputs": [],
   "source": [
    "import torch\n",
    "import torch.nn as nn\n",
    "from torch.nn import Linear, ReLU, CrossEntropyLoss, Sequential, Conv2d, MaxPool2d, Module, Softmax, BatchNorm2d, Dropout\n",
    "import torch.nn.functional as F"
   ]
  },
  {
   "cell_type": "code",
   "execution_count": 3,
   "metadata": {},
   "outputs": [],
   "source": [
    "class ConvBlock(nn.Module):\n",
    "    def __init__(self,in_channels,out_channels,kernel_size=(3,3),padding=1):\n",
    "        super(ConvBlock,self).__init__()\n",
    "        self.conv = ??????????\n",
    "        self.batchnorm = ??????\n",
    "        self.relu = ?????????\n",
    "        \n",
    "    def forward(self,x):\n",
    "        x = self.conv(x)\n",
    "        x = self.batchnorm(x)\n",
    "        x = self.relu(x)\n",
    "        return x"
   ]
  },
  {
   "cell_type": "code",
   "execution_count": 4,
   "metadata": {},
   "outputs": [],
   "source": [
    "class StackEncoder(nn.Module):\n",
    "    def __init__(self,channel1,channel2,kernel_size=(3,3),padding=1):\n",
    "        super(StackEncoder,self).__init__()\n",
    "        self.maxpool = nn.MaxPool2d(kernel_size=2,stride=2)\n",
    "        self.block = nn.Sequential(\n",
    "            ?????????,\n",
    "            ?????????,     \n",
    "        )\n",
    "        \n",
    "    def forward(self,x):\n",
    "        copy_out = self.block(x)\n",
    "        poolout = self.maxpool(copy_out)\n",
    "        return copy_out,poolout"
   ]
  },
  {
   "cell_type": "code",
   "execution_count": 5,
   "metadata": {},
   "outputs": [],
   "source": [
    "class StackDecoder(nn.Module):\n",
    "    def __init__(self,copy_channel,channel1,channel2,kernel_size=(3,3),padding=1):\n",
    "        super(StackDecoder,self).__init__()\n",
    "        self.unConv = nn.ConvTranspose2d(channel1,channel1,kernel_size=(2,2),stride=2)\n",
    "        self.block = nn.Sequential(\n",
    "            ConvBlock(?????????,?????????,kernel_size,padding),\n",
    "            ConvBlock(?????????,?????????,kernel_size,padding),\n",
    "            ConvBlock(?????????,?????????,kernel_size,padding),\n",
    "        )\n",
    "        \n",
    "    def forward(self,x,down_copy):\n",
    "            _, channels, height, width = down_copy.size()  \n",
    "            x = self.unConv(x)\n",
    "            x = torch.cat([?????????, ?????????], 1)\n",
    "            x = self.block(x)\n",
    "            return x"
   ]
  },
  {
   "cell_type": "code",
   "execution_count": 6,
   "metadata": {},
   "outputs": [],
   "source": [
    "class Unet(nn.Module):\n",
    "    def __init__(self):\n",
    "        super(Unet,self).__init__()\n",
    "        \n",
    "        self.down1 = ?????????(3,32,kernel_size=(3,3))             \n",
    "        self.down2 = ?????????(32,64,kernel_size=(3,3))            \n",
    "        self.down3 = ?????????(64,128,kernel_size=(3,3))           \n",
    "        self.down4 = ?????????(128,256,kernel_size=(3,3))          \n",
    "        \n",
    "        self.center = ?????????(256,256,kernel_size=(3,3),padding=1)  \n",
    "        \n",
    "        self.up4 = ?????????(256,256,128,kernel_size=(3,3))        \n",
    "        self.up3 = ?????????(128,128,64,kernel_size=(3,3))         \n",
    "        self.up2 = ?????????(64,64,32,kernel_size=(3,3))           \n",
    "        self.up1 = ?????????(32,32,16,kernel_size=(3,3))           \n",
    "        self.conv = Conv2d(16,3,kernel_size=(1,1),bias=True)\n",
    "        \n",
    "    def forward(self,x):\n",
    "        copy1,out = self.down1(x)  \n",
    "        copy2,out = self.down2(out)  \n",
    "        copy3,out = self.down3(out)\n",
    "        copy4,out = self.down4(out)\n",
    "        \n",
    "        out = self.center(out)\n",
    "        \n",
    "        up4 = self.up4(out,copy4)\n",
    "        up3 = self.up3(up4,copy3)\n",
    "        up2 = self.up2(up3,copy2)\n",
    "        up1 = self.up1(up2,copy1)\n",
    "        \n",
    "        out = self.conv(up1)\n",
    "        out = nn.?????????()(out)\n",
    "\n",
    "\n",
    "        return out"
   ]
  }
 ],
 "metadata": {
  "kernelspec": {
   "display_name": "Python 3",
   "language": "python",
   "name": "python3"
  },
  "language_info": {
   "codemirror_mode": {
    "name": "ipython",
    "version": 3
   },
   "file_extension": ".py",
   "mimetype": "text/x-python",
   "name": "python",
   "nbconvert_exporter": "python",
   "pygments_lexer": "ipython3",
   "version": "3.7.3"
  }
 },
 "nbformat": 4,
 "nbformat_minor": 4
}
