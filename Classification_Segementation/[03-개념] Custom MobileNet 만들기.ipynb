{
 "cells": [
  {
   "cell_type": "markdown",
   "metadata": {},
   "source": [
    "# [03] COVID Image Classification: MobileNet 구조 만들기\n",
    "\n",
    "본 실습에서는 이미지 분류에서 경량화 모델로 널리 알려진 MobileNet V2를 구현해보겠습니다.\n",
    "\n",
    "논문의 링크는 이곳입니다. (https://arxiv.org/pdf/1801.04381.pdf)\n",
    "\n",
    "구조에 대해서 간단하게 짚어보겠습니다. 아래의 그림들은 모두 위의 논문에서 발췌하였습니다.\n"
   ]
  },
  {
   "cell_type": "markdown",
   "metadata": {},
   "source": [
    "![MobileNetV2](./imgs/mobileNetV2.png)"
   ]
  },
  {
   "cell_type": "markdown",
   "metadata": {},
   "source": [
    "경량화 신경망들의 구조를 뽑아본 것입니다. 여기서 가장 눈여겨 볼 것은 MobileNet과 MobileNetV2입니다.\n",
    "\n",
    "두 신경망의 가장 큰 차이는 `bottleneck` 구조입니다. `Inverted Residual Block`으로 보통 부릅니다.\n",
    "\n",
    "아래는 `MobileNet`에 대한 설명입니다."
   ]
  },
  {
   "cell_type": "markdown",
   "metadata": {},
   "source": [
    "![overview_mobilenet](./imgs/overview_mobilenet.png)"
   ]
  },
  {
   "cell_type": "markdown",
   "metadata": {},
   "source": [
    "반면, MobileNetV2는 기존의 구조에 bottleneck 구조를 더한 아래와 같은 형태입니다.\n",
    "\n",
    "- `1x1` => `3x3` => `1x1`을 이어서 block을 형성한 것입니다."
   ]
  },
  {
   "cell_type": "markdown",
   "metadata": {},
   "source": [
    "![bottleneck](./imgs/bottleneck.png)"
   ]
  },
  {
   "cell_type": "markdown",
   "metadata": {},
   "source": [
    "이것을 기반으로 MobileNetV2는 아래처럼 구조를 만들었습니다."
   ]
  },
  {
   "cell_type": "markdown",
   "metadata": {},
   "source": [
    "![overview](./imgs/overview_mobilenetv2.png)"
   ]
  },
  {
   "cell_type": "markdown",
   "metadata": {},
   "source": [
    "아래의 코드는 파이토치의 official 코드를 조금 고친 것입니다."
   ]
  },
  {
   "cell_type": "code",
   "execution_count": 1,
   "metadata": {},
   "outputs": [],
   "source": [
    "import torch\n",
    "from torch import nn"
   ]
  },
  {
   "cell_type": "code",
   "execution_count": 4,
   "metadata": {},
   "outputs": [],
   "source": [
    "class ConvBNReLU(nn.Module):\n",
    "    def __init__(self, inplanes, outplanes, kernel_size, stride, groups):\n",
    "        super(ConvBNReLU, self).__init__()\n",
    "        padding = (kernel_size - 1) // 2\n",
    "        self.conv = None\n",
    "        self.bn = nn.BatchNorm2d()\n",
    "        self.act = None\n",
    "        \n",
    "    def forward(self,x):\n",
    "        \n",
    "        x1 = self.conv(x)\n",
    "        x1 = self.bn(x1)\n",
    "        x1 = self.act(x1)\n",
    "        \n",
    "        return x1"
   ]
  },
  {
   "cell_type": "markdown",
   "metadata": {},
   "source": [
    "## InvertedResidual Block Remind 요약\n",
    "- 기존의 Convolution filter를 두 가지로 분리해서 붙이는 것을 고안한 방법입니다..\n",
    "    1. Depthwise convolution: 3x3 convolution이나 channel마다 계산을 하는 (평면적으로) 함수.\n",
    "    2. Pointwise convolution: 1x1의 original convolution의 형태. 서로 다른 channel들의 값을 고려하는 함수.\n",
    "- 위의 내용에 더해 expansion - convolution - squeeze의 형태로 block이 구성됩니다. (Inverted Residual Block)\n",
    "- 쉽게 이야기하면 아래와 같습니다.\n",
    "    1. 처음 들어온 input의 channel을 확장시키는 pointwise convolution을 통과함.\n",
    "    2. channel의 수가 늘어난 input을 depthwise convolution을 통과함.\n",
    "    3. 다시 channel 수를 줄이는 (squeeze) pointwise convolution을 통과함."
   ]
  },
  {
   "cell_type": "code",
   "execution_count": 2,
   "metadata": {},
   "outputs": [],
   "source": [
    "class InvertedResidual(nn.Module):\n",
    "    def __init__(self, inp, oup, stride, expand_ratio, shortcut):\n",
    "        super(InvertedResidual, self).__init__()\n",
    "        \n",
    "        self.shortcut = shortcut # True, False\n",
    "        \n",
    "        hidden_dim = int(round(inp * expand_ratio))\n",
    "        \n",
    "        self.expand_pw = ConvBNReLU()\n",
    "        self.depthwise = ConvBNReLU()\n",
    "        self.squeeze_pw = ConvBNReLU()\n",
    "        \n",
    "    def forward(self, x):\n",
    "        x1 = self.expand_pw(x)\n",
    "        x1 = self.depthwise(x)\n",
    "        x1 = self.squeeze_pw(x)\n",
    "        \n",
    "        if self.shortcut:\n",
    "            out = x + x1\n",
    "        else:\n",
    "            out = x1\n",
    "            \n",
    "        return out"
   ]
  },
  {
   "cell_type": "code",
   "execution_count": null,
   "metadata": {},
   "outputs": [],
   "source": [
    "class LGMobileNetV2(nn.Module):\n",
    "    def __init__(self, num_classes):\n",
    "        super(LGMobileNetV2, self).__init__()\n",
    "        \n",
    "        # input : 3 x 150 x 150\n",
    "        self.stem = ConvBNReLU(inplanes=3, outplanes=16, kernel_size=3, stride=2) # 16 x 75 x 75\n",
    "        self.block1 = InvertedResidual(inp, oup, stride, expand_ratio, shortcut) # 16 x 75 x 75\n",
    "        self.block2 = InvertedResidual(inp, oup, stride, expand_ratio, shortcut) # 32 x 38 x 38\n",
    "        self.block3 = InvertedResidual(inp, oup, stride, expand_ratio, shortcut) # 64 x 19 x 19\n",
    "        self.block4 = InvertedResidual(inp, oup, stride, expand_ratio, shortcut) # 64 x 19 x 19\n",
    "        self.block5 = InvertedResidual(inp, oup, stride, expand_ratio, shortcut) # 128 x 10 x 10\n",
    "        self.block6 = InvertedResidual(inp, oup, stride, expand_ratio, shortcut) # 128 x 5 x 5\n",
    "        self.block7 = InvertedResidual(inp, oup, stride, expand_ratio, shortcut) # 128 x 5 x 5\n",
    "        self.block8 = InvertedResidual(inp, oup, stride, expand_ratio, shortcut) # 128 x 3 x 3\n",
    "        self.pool = nn.AvgPool2d(kernel_size=3)\n",
    "        \n",
    "        self.classifier = nn.Linear(128,2)\n",
    "        \n",
    "    def forward(self, x):\n",
    "        x1 = self.stem(x)\n",
    "        \n",
    "        x1 = self.block1(x1)\n",
    "        x1 = self.block2(x1)\n",
    "        x1 = self.block3(x1)\n",
    "        x1 = self.block4(x1)\n",
    "        x1 = self.block5(x1)\n",
    "        x1 = self.block6(x1)\n",
    "        x1 = self.block7(x1)\n",
    "        x1 = self.block8(x1)\n",
    "        \n",
    "        x1 = x1.reshape(x.shape[0], -1) # 2차원으로 바꾸는 코드\n",
    "        x1 = self.classifier(x1)\n",
    "        \n",
    "        return x1"
   ]
  },
  {
   "cell_type": "markdown",
   "metadata": {},
   "source": [
    "---"
   ]
  }
 ],
 "metadata": {
  "kernelspec": {
   "display_name": "Python 3",
   "language": "python",
   "name": "python3"
  },
  "language_info": {
   "codemirror_mode": {
    "name": "ipython",
    "version": 3
   },
   "file_extension": ".py",
   "mimetype": "text/x-python",
   "name": "python",
   "nbconvert_exporter": "python",
   "pygments_lexer": "ipython3",
   "version": "3.7.3"
  }
 },
 "nbformat": 4,
 "nbformat_minor": 4
}
