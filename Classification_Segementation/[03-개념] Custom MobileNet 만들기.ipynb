{
 "cells": [
  {
   "cell_type": "code",
   "execution_count": 1,
   "metadata": {},
   "outputs": [],
   "source": [
    "import torch\n",
    "from torch import nn"
   ]
  },
  {
   "cell_type": "code",
   "execution_count": 4,
   "metadata": {},
   "outputs": [],
   "source": [
    "class ConvBNReLU(nn.Module):\n",
    "    def __init__(self, inplanes, outplanes, kernel_size, stride, groups):\n",
    "        super(ConvBNReLU, self).__init__()\n",
    "        padding = (kernel_size - 1) // 2\n",
    "        self.conv = None\n",
    "        self.bn = nn.BatchNorm2d()\n",
    "        self.act = None\n",
    "        \n",
    "    def forward(self,x):\n",
    "        \n",
    "        x1 = self.conv(x)\n",
    "        x1 = self.bn(x1)\n",
    "        x1 = self.act(x1)\n",
    "        \n",
    "        return x1"
   ]
  },
  {
   "cell_type": "code",
   "execution_count": 2,
   "metadata": {},
   "outputs": [],
   "source": [
    "class InvertedResidual(nn.Module):\n",
    "    def __init__(self, inp, oup, stride, expand_ratio, shortcut):\n",
    "        super(InvertedResidual, self).__init__()\n",
    "        \n",
    "        self.shortcut = shortcut # True, False\n",
    "        \n",
    "        hidden_dim = int(round(inp * expand_ratio))\n",
    "        \n",
    "        self.expand_pw = ConvBNReLU()\n",
    "        self.depthwise = ConvBNReLU()\n",
    "        self.squeeze_pw = ConvBNReLU()\n",
    "        \n",
    "    def forward(self, x):\n",
    "        x1 = self.expand_pw(x)\n",
    "        x1 = self.depthwise(x)\n",
    "        x1 = self.squeeze_pw(x)\n",
    "        \n",
    "        if self.shortcut:\n",
    "            out = x + x1\n",
    "        else:\n",
    "            out = x1\n",
    "            \n",
    "        return out"
   ]
  },
  {
   "cell_type": "code",
   "execution_count": null,
   "metadata": {},
   "outputs": [],
   "source": [
    "class LGMobileNetV2(nn.Module):\n",
    "    def __init__(self, num_classes):\n",
    "        super(LGMobileNetV2, self).__init__()\n",
    "        \n",
    "        # input : 3 x 150 x 150\n",
    "        self.stem = ConvBNReLU(inplanes=3, outplanes=16, kernel_size=3, stride=2) # 16 x 75 x 75\n",
    "        self.block1 = InvertedResidual(inp, oup, stride, expand_ratio, shortcut) # 16 x 75 x 75\n",
    "        self.block2 = InvertedResidual(inp, oup, stride, expand_ratio, shortcut) # 32 x 38 x 38\n",
    "        self.block3 = InvertedResidual(inp, oup, stride, expand_ratio, shortcut) # 64 x 19 x 19\n",
    "        self.block4 = InvertedResidual(inp, oup, stride, expand_ratio, shortcut) # 64 x 19 x 19\n",
    "        self.block5 = InvertedResidual(inp, oup, stride, expand_ratio, shortcut) # 128 x 10 x 10\n",
    "        self.block6 = InvertedResidual(inp, oup, stride, expand_ratio, shortcut) # 128 x 5 x 5\n",
    "        self.block7 = InvertedResidual(inp, oup, stride, expand_ratio, shortcut) # 128 x 5 x 5\n",
    "        self.block8 = InvertedResidual(inp, oup, stride, expand_ratio, shortcut) # 128 x 3 x 3\n",
    "        self.pool = nn.AvgPool2d(kernel_size=3)\n",
    "        \n",
    "        self.classifier = nn.Linear(128,2)\n",
    "        \n",
    "    def forward(self, x):\n",
    "        x1 = self.stem(x)\n",
    "        \n",
    "        x1 = self.block1(x1)\n",
    "        x1 = self.block2(x1)\n",
    "        x1 = self.block3(x1)\n",
    "        x1 = self.block4(x1)\n",
    "        x1 = self.block5(x1)\n",
    "        x1 = self.block6(x1)\n",
    "        x1 = self.block7(x1)\n",
    "        x1 = self.block8(x1)\n",
    "        \n",
    "        x1 = x1.reshape(x.shape[0], -1) # 2차원으로 바꾸는 코드\n",
    "        x1 = self.classifier(x1)\n",
    "        \n",
    "        return x1"
   ]
  },
  {
   "cell_type": "markdown",
   "metadata": {},
   "source": [
    "---"
   ]
  }
 ],
 "metadata": {
  "kernelspec": {
   "display_name": "Python 3",
   "language": "python",
   "name": "python3"
  },
  "language_info": {
   "codemirror_mode": {
    "name": "ipython",
    "version": 3
   },
   "file_extension": ".py",
   "mimetype": "text/x-python",
   "name": "python",
   "nbconvert_exporter": "python",
   "pygments_lexer": "ipython3",
   "version": "3.7.3"
  }
 },
 "nbformat": 4,
 "nbformat_minor": 4
}
