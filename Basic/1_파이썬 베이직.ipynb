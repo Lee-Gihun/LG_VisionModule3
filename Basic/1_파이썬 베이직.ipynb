{
 "cells": [
  {
   "cell_type": "markdown",
   "metadata": {},
   "source": [
    "# 사전 자료 1\n",
    "\n",
    "본 자료는 LG AI CAMP의 `LG Vision Module3`를 위한 첫 번째 사전 자료입니다.\n",
    "\n",
    "Python을 사용하는 것에 아직 미숙함을 가지고 계실 분들을 위해 만들어본 자료입니다.\n",
    "\n",
    "본 자료는 https://wikidocs.net/25 를 참고하여 만들었습니다."
   ]
  },
  {
   "cell_type": "markdown",
   "metadata": {},
   "source": [
    "# Print"
   ]
  },
  {
   "cell_type": "code",
   "execution_count": 1,
   "metadata": {},
   "outputs": [
    {
     "name": "stdout",
     "output_type": "stream",
     "text": [
      "Hello world\n"
     ]
    }
   ],
   "source": [
    "print (\"Hello world\")"
   ]
  },
  {
   "cell_type": "code",
   "execution_count": 2,
   "metadata": {},
   "outputs": [
    {
     "name": "stdout",
     "output_type": "stream",
     "text": [
      "Hello, this is taehyeon\n"
     ]
    }
   ],
   "source": [
    "print('Hello, this is {}'.format('taehyeon'))"
   ]
  },
  {
   "cell_type": "code",
   "execution_count": 3,
   "metadata": {},
   "outputs": [
    {
     "name": "stdout",
     "output_type": "stream",
     "text": [
      "Hello, this is taehyeon and I'm 30 years old\n"
     ]
    }
   ],
   "source": [
    "print('Hello, this is {} and I\\'m {} years old'.format('taehyeon', 30))"
   ]
  },
  {
   "cell_type": "markdown",
   "metadata": {},
   "source": [
    "----"
   ]
  },
  {
   "cell_type": "markdown",
   "metadata": {},
   "source": [
    "# Input"
   ]
  },
  {
   "cell_type": "code",
   "execution_count": 5,
   "metadata": {},
   "outputs": [
    {
     "name": "stdin",
     "output_type": "stream",
     "text": [
      "Tell me anthing you want:  dddd\n"
     ]
    }
   ],
   "source": [
    "a = input(\"Tell me anthing you want: \")"
   ]
  },
  {
   "cell_type": "code",
   "execution_count": 6,
   "metadata": {},
   "outputs": [
    {
     "name": "stdout",
     "output_type": "stream",
     "text": [
      "dddd\n"
     ]
    }
   ],
   "source": [
    "print(a)"
   ]
  },
  {
   "cell_type": "markdown",
   "metadata": {},
   "source": [
    "-----"
   ]
  },
  {
   "cell_type": "markdown",
   "metadata": {},
   "source": [
    "# Type\n",
    "## int / float / str / bool\n",
    "- 변수 선언이 필요 없다는 것이 C/Java와 가장 큰 차이점"
   ]
  },
  {
   "cell_type": "code",
   "execution_count": 7,
   "metadata": {},
   "outputs": [
    {
     "name": "stdout",
     "output_type": "stream",
     "text": [
      "10 <class 'int'>\n",
      "10.0 <class 'float'>\n",
      "hi <class 'str'>\n",
      "True <class 'bool'>\n"
     ]
    }
   ],
   "source": [
    "a = 10\n",
    "print (a, type(a))\n",
    "\n",
    "a = 10.0\n",
    "print (a, type(a))\n",
    "\n",
    "a = 'hi'\n",
    "print (a, type(a))\n",
    "\n",
    "a = True\n",
    "print (a, type(a))"
   ]
  },
  {
   "cell_type": "markdown",
   "metadata": {},
   "source": [
    "- 정수 (int) 및 실수 (float)"
   ]
  },
  {
   "cell_type": "code",
   "execution_count": 8,
   "metadata": {},
   "outputs": [
    {
     "name": "stdout",
     "output_type": "stream",
     "text": [
      "7\n",
      "-1\n",
      "12\n",
      "0.75\n",
      "\n",
      "81\n",
      "3\n",
      "0\n"
     ]
    }
   ],
   "source": [
    "a = 3\n",
    "b = 4\n",
    "print (a+b)\n",
    "print (a-b)\n",
    "print (a*b)\n",
    "print (a/b)\n",
    "print ()\n",
    "\n",
    "print (a**b)\n",
    "print (a%b)\n",
    "print (a//b)"
   ]
  },
  {
   "cell_type": "markdown",
   "metadata": {},
   "source": [
    "- 문자열 (str)"
   ]
  },
  {
   "cell_type": "code",
   "execution_count": 9,
   "metadata": {},
   "outputs": [
    {
     "name": "stdout",
     "output_type": "stream",
     "text": [
      "hi\n",
      "hello\n",
      "hi hello\n",
      "pi pello\n",
      "pi pello pi pello pi pello \n",
      "3\n",
      "4\n",
      "['pi', 'pello', 'pi', 'pello', 'pi', 'pello']\n"
     ]
    }
   ],
   "source": [
    "a = 'hi'\n",
    "b = 'hello'\n",
    "c = a + ' ' + b\n",
    "d = c.replace('h', 'p')\n",
    "e = (d+' ')*3\n",
    "\n",
    "print (a)\n",
    "print (b)\n",
    "print (c)\n",
    "print (d)\n",
    "print (e)\n",
    "print (e.count('e'))\n",
    "print(e.find('e'))\n",
    "print (e.split())"
   ]
  },
  {
   "cell_type": "markdown",
   "metadata": {},
   "source": [
    "- 논리형(bool)"
   ]
  },
  {
   "cell_type": "code",
   "execution_count": 10,
   "metadata": {},
   "outputs": [
    {
     "name": "stdout",
     "output_type": "stream",
     "text": [
      "True\n",
      "False\n",
      "False\n",
      "False\n",
      "----------\n",
      "True\n",
      "True\n",
      "True\n",
      "False\n"
     ]
    }
   ],
   "source": [
    "print (True and True)\n",
    "print (True and False)\n",
    "print (False and True)\n",
    "print (False and False)\n",
    "print (\"----------\")\n",
    "print (True or True)\n",
    "print (True or False)\n",
    "print (False or True)\n",
    "print (False or False)"
   ]
  },
  {
   "cell_type": "markdown",
   "metadata": {},
   "source": [
    "- list "
   ]
  },
  {
   "cell_type": "code",
   "execution_count": 11,
   "metadata": {},
   "outputs": [
    {
     "name": "stdout",
     "output_type": "stream",
     "text": [
      "first element: 1\n",
      "last element: 2\n",
      "last element: 2\n",
      "first to third elements: [1, 7, 5]\n",
      "sorted lst: [1, 2, 3, 5, 7]\n",
      "\n",
      "[1, 7, 5, 3, 2]\n",
      "[1, 7, 5, 3, 2, 4]\n",
      "[1, 7, 5, 10, 3, 2, 4]\n",
      "[1, 7, 5, 10, 3, 2, 4, [5, 8]]\n",
      "[1, 7, 10, 3, 2, 4, [5, 8]]\n",
      "[1, 7, 10, 3, 2, [5, 8]]\n",
      "\n",
      "[1, 7, 5, 3, 2, 5, 8]\n",
      "[5, 8, 5, 8, 5, 8, 5, 8]\n",
      "\n",
      "7\n",
      "1\n",
      "[([2, 3, 4], 0), ([3, 2, 1], 0), ([5, 4, 3], 1), ([3, 2, 4], 1), ([5, 3, 2], 0)]\n"
     ]
    }
   ],
   "source": [
    "lst1 = [1 , 7, 5, 3, 2]\n",
    "print ('first element: {}'.format(lst1[0]))\n",
    "print ('last element: {}'.format(lst1[len(lst1)-1]))\n",
    "print ('last element: {}'.format(lst1[-1]))\n",
    "print ('first to third elements: {}'.format(lst1[:3]))\n",
    "print ('sorted lst: {}\\n'.format(sorted(lst1)))\n",
    "\n",
    "print (lst1)\n",
    "lst1.append(4)\n",
    "print (lst1)\n",
    "lst1.insert(3, 10)\n",
    "print (lst1)\n",
    "lst1.append([5,8])\n",
    "print (lst1)\n",
    "lst1.remove(5)\n",
    "print (lst1)\n",
    "lst1.pop(5)\n",
    "print (lst1)\n",
    "print ()\n",
    "\n",
    "lst1 = [1, 7 , 5, 3, 2]\n",
    "lst2 = [5, 8]\n",
    "print (lst1+lst2)\n",
    "print (lst2*4)\n",
    "print ()\n",
    "\n",
    "print (max(lst1))\n",
    "print (min(lst1))\n",
    "\n",
    "train_x = [[2,3,4], [3,2,1], [5,4,3], [3,2,4], [5,3,2]]\n",
    "train_y = [0,0,1,1,0]\n",
    "train_dataset = list(zip(train_x, train_y))\n",
    "print (train_dataset)"
   ]
  },
  {
   "cell_type": "markdown",
   "metadata": {},
   "source": [
    "- set"
   ]
  },
  {
   "cell_type": "code",
   "execution_count": 12,
   "metadata": {},
   "outputs": [
    {
     "name": "stdout",
     "output_type": "stream",
     "text": [
      "{3, 5} {5, 7}\n",
      "\n",
      "{3, 5, 7}\n",
      "{5}\n",
      "{3}\n",
      "{7}\n",
      "\n",
      "{3, 5, 7}\n",
      "{5}\n",
      "{3}\n",
      "{7}\n"
     ]
    }
   ],
   "source": [
    "lst1 = [3,5] * 3\n",
    "lst2 = [5,7] * 2\n",
    "set1 = set(lst1)\n",
    "set2 = set(lst2)\n",
    "print (set1, set2)\n",
    "print ()\n",
    "\n",
    "print (set1.union(set2))\n",
    "print (set1.intersection(set2))\n",
    "print (set1.difference(set2))\n",
    "print (set2.difference(set1))\n",
    "print ()\n",
    "\n",
    "print (set1|set2)\n",
    "print (set1&set2)\n",
    "print (set1-set2)\n",
    "print (set2-set1)"
   ]
  },
  {
   "cell_type": "markdown",
   "metadata": {},
   "source": [
    "- tuple: 리스트는 가변적(mutable; 변경 가능)이지만 튜플은 불변적(immutable; 변경 불가)임"
   ]
  },
  {
   "cell_type": "code",
   "execution_count": 13,
   "metadata": {},
   "outputs": [
    {
     "name": "stdout",
     "output_type": "stream",
     "text": [
      "first element: 1\n",
      "last element: 2\n",
      "last element: 2\n",
      "first to third elements: (1, 7, 5)\n",
      "sorted lst: [1, 2, 3, 5, 7]\n",
      "\n"
     ]
    }
   ],
   "source": [
    "tpl = (1, 7, 5, 3, 2)\n",
    "print ('first element: {}'.format(tpl[0]))\n",
    "print ('last element: {}'.format(tpl[len(tpl)-1]))\n",
    "print ('last element: {}'.format(tpl[-1]))\n",
    "print ('first to third elements: {}'.format(tpl[:3]))\n",
    "print ('sorted lst: {}\\n'.format(sorted(tpl)))"
   ]
  },
  {
   "cell_type": "markdown",
   "metadata": {},
   "source": [
    "- dictionary"
   ]
  },
  {
   "cell_type": "code",
   "execution_count": 14,
   "metadata": {},
   "outputs": [
    {
     "name": "stdout",
     "output_type": "stream",
     "text": [
      "The atomic number of H: 1\n",
      "The atomic number of Be: 4\n",
      "\n",
      "dict_items([('H', 1), ('He', 2), ('Li', 3), ('Be', 4), ('B', 5)])\n",
      "dict_keys(['H', 'He', 'Li', 'Be', 'B'])\n",
      "dict_values([1, 2, 3, 4, 5])\n"
     ]
    }
   ],
   "source": [
    "dic = {'H': 1, 'He': 2, 'Li': 3, 'Be': 4}\n",
    "print ('The atomic number of H: {}'.format(dic['H']))\n",
    "print ('The atomic number of Be: {}'.format(dic['Be']))\n",
    "dic['B'] = 5\n",
    "\n",
    "print ()\n",
    "print (dic.items())\n",
    "print (dic.keys())\n",
    "print (dic.values())"
   ]
  },
  {
   "cell_type": "markdown",
   "metadata": {},
   "source": [
    "- if / elif / else"
   ]
  },
  {
   "cell_type": "code",
   "execution_count": 15,
   "metadata": {},
   "outputs": [],
   "source": [
    "import random"
   ]
  },
  {
   "cell_type": "code",
   "execution_count": 16,
   "metadata": {},
   "outputs": [
    {
     "name": "stdout",
     "output_type": "stream",
     "text": [
      "36 is 3n form\n"
     ]
    }
   ],
   "source": [
    "val = random.randint(1, 50)\n",
    "if val%3 ==0:\n",
    "    print ('{} is 3n form'.format(val))\n",
    "elif val%3 ==1:\n",
    "    print ('{} is 3n+1 form'.format(val))\n",
    "else:\n",
    "    print ('{} is 3n+2 form'.format(val))"
   ]
  },
  {
   "cell_type": "markdown",
   "metadata": {},
   "source": [
    "- assert: 조건을 만족하지 않는 경우 AssertionError()를 냄"
   ]
  },
  {
   "cell_type": "code",
   "execution_count": 17,
   "metadata": {},
   "outputs": [],
   "source": [
    "a=3\n",
    "b=3\n",
    "assert a==b"
   ]
  },
  {
   "cell_type": "code",
   "execution_count": 18,
   "metadata": {},
   "outputs": [
    {
     "ename": "AssertionError",
     "evalue": "",
     "output_type": "error",
     "traceback": [
      "\u001b[0;31m---------------------------------------------------------------------------\u001b[0m",
      "\u001b[0;31mAssertionError\u001b[0m                            Traceback (most recent call last)",
      "\u001b[0;32m<ipython-input-18-69b82f38a025>\u001b[0m in \u001b[0;36m<module>\u001b[0;34m\u001b[0m\n\u001b[1;32m      1\u001b[0m \u001b[0ma\u001b[0m\u001b[0;34m=\u001b[0m\u001b[0;36m3\u001b[0m\u001b[0;34m\u001b[0m\u001b[0;34m\u001b[0m\u001b[0m\n\u001b[1;32m      2\u001b[0m \u001b[0mb\u001b[0m\u001b[0;34m=\u001b[0m\u001b[0;36m5\u001b[0m\u001b[0;34m\u001b[0m\u001b[0;34m\u001b[0m\u001b[0m\n\u001b[0;32m----> 3\u001b[0;31m \u001b[0;32massert\u001b[0m \u001b[0ma\u001b[0m\u001b[0;34m==\u001b[0m\u001b[0mb\u001b[0m\u001b[0;34m\u001b[0m\u001b[0;34m\u001b[0m\u001b[0m\n\u001b[0m",
      "\u001b[0;31mAssertionError\u001b[0m: "
     ]
    }
   ],
   "source": [
    "a=3\n",
    "b=5\n",
    "assert a==b"
   ]
  },
  {
   "cell_type": "markdown",
   "metadata": {},
   "source": [
    "- for (list)"
   ]
  },
  {
   "cell_type": "code",
   "execution_count": 19,
   "metadata": {},
   "outputs": [
    {
     "name": "stdout",
     "output_type": "stream",
     "text": [
      "1\n",
      "7\n",
      "5\n",
      "3\n",
      "2\n"
     ]
    }
   ],
   "source": [
    "lst = [1, 7, 5, 3, 2]\n",
    "for val in lst:\n",
    "    print (val)"
   ]
  },
  {
   "cell_type": "code",
   "execution_count": 20,
   "metadata": {},
   "outputs": [
    {
     "name": "stdout",
     "output_type": "stream",
     "text": [
      "0 1\n",
      "1 7\n",
      "2 5\n",
      "3 3\n",
      "4 2\n"
     ]
    }
   ],
   "source": [
    "lst = [1, 7, 5, 3, 2]\n",
    "for idx in range(len(lst)):\n",
    "    print (idx, lst[idx])"
   ]
  },
  {
   "cell_type": "code",
   "execution_count": 21,
   "metadata": {},
   "outputs": [
    {
     "name": "stdout",
     "output_type": "stream",
     "text": [
      "0 1\n",
      "1 7\n",
      "2 5\n",
      "3 3\n",
      "4 2\n"
     ]
    }
   ],
   "source": [
    "lst = [1, 7, 5, 3, 2]\n",
    "for idx, val in enumerate(lst):\n",
    "    print (idx, val)"
   ]
  },
  {
   "cell_type": "markdown",
   "metadata": {},
   "source": [
    "- for (dictionary)"
   ]
  },
  {
   "cell_type": "code",
   "execution_count": 22,
   "metadata": {},
   "outputs": [
    {
     "name": "stdout",
     "output_type": "stream",
     "text": [
      "Li 3\n"
     ]
    }
   ],
   "source": [
    "search_val = 3\n",
    "for k, v in dic.items():\n",
    "    if v == search_val:\n",
    "        print (k, v)"
   ]
  },
  {
   "cell_type": "markdown",
   "metadata": {},
   "source": [
    "- list comprehension: (조건문) + 반복문 => list"
   ]
  },
  {
   "cell_type": "code",
   "execution_count": 23,
   "metadata": {},
   "outputs": [
    {
     "name": "stdout",
     "output_type": "stream",
     "text": [
      "[1, 4, 9]\n"
     ]
    }
   ],
   "source": [
    "lst = [1, 2, 'A', False, 3]\n",
    "new_lst = [i*i for i in lst if type(i)==int]\n",
    "print (new_lst)"
   ]
  },
  {
   "cell_type": "code",
   "execution_count": 24,
   "metadata": {},
   "outputs": [
    {
     "name": "stdout",
     "output_type": "stream",
     "text": [
      "[2, 4, 6, 8, 10, 12, 14, 16, 18]\n"
     ]
    }
   ],
   "source": [
    "result = [x*y for x in range(2,3) \\\n",
    "         for y in range(1,10)]\n",
    "print (result)"
   ]
  },
  {
   "cell_type": "markdown",
   "metadata": {},
   "source": [
    "# 함수\n",
    "- Basic"
   ]
  },
  {
   "cell_type": "code",
   "execution_count": 25,
   "metadata": {},
   "outputs": [],
   "source": [
    "def calc(x, y, op='+'):\n",
    "    if op == '+':\n",
    "        z = x + y\n",
    "    elif op == '-':\n",
    "        z = x - y\n",
    "    elif op == '*':\n",
    "        z = x * y\n",
    "    elif op == '/':\n",
    "        z = x / y\n",
    "    else:\n",
    "        z = 'This operation is not defined'\n",
    "    \n",
    "    return z"
   ]
  },
  {
   "cell_type": "code",
   "execution_count": 26,
   "metadata": {},
   "outputs": [
    {
     "name": "stdout",
     "output_type": "stream",
     "text": [
      "1.0\n"
     ]
    }
   ],
   "source": [
    "print (calc(5,5,'/'))"
   ]
  },
  {
   "cell_type": "code",
   "execution_count": 27,
   "metadata": {},
   "outputs": [],
   "source": [
    "def return_add_minus(x,y):\n",
    "    return x+y, x-y"
   ]
  },
  {
   "cell_type": "code",
   "execution_count": 28,
   "metadata": {},
   "outputs": [
    {
     "name": "stdout",
     "output_type": "stream",
     "text": [
      "8\n",
      "2\n"
     ]
    }
   ],
   "source": [
    "plus, minus = return_add_minus(5,3)\n",
    "print (plus)\n",
    "print (minus)"
   ]
  },
  {
   "cell_type": "markdown",
   "metadata": {},
   "source": [
    "- Mutable parameters: 파라미터의 수가 가변적인 경우  \n",
    "    1. Mutable parameters를 tuple로 받는 경우"
   ]
  },
  {
   "cell_type": "code",
   "execution_count": 29,
   "metadata": {},
   "outputs": [],
   "source": [
    "def fn_tpl(x, y, *args):\n",
    "    print (args)\n",
    "    print ()\n",
    "    for arg in args:\n",
    "        print (arg)"
   ]
  },
  {
   "cell_type": "code",
   "execution_count": 30,
   "metadata": {},
   "outputs": [
    {
     "name": "stdout",
     "output_type": "stream",
     "text": [
      "(3, [4, 5], 'Hello', ['Hi', 'Hello'])\n",
      "\n",
      "3\n",
      "[4, 5]\n",
      "Hello\n",
      "['Hi', 'Hello']\n"
     ]
    }
   ],
   "source": [
    "fn_tpl(1, 2, 3, [4, 5], 'Hello', ['Hi', 'Hello'])"
   ]
  },
  {
   "cell_type": "markdown",
   "metadata": {},
   "source": [
    "2. Mutable parameters를 dictionary로 받는 경우"
   ]
  },
  {
   "cell_type": "code",
   "execution_count": 31,
   "metadata": {},
   "outputs": [],
   "source": [
    "def fn_dict(x, y, **kwargs):\n",
    "    print (kwargs)\n",
    "    print ()\n",
    "    for k, v in kwargs.items():\n",
    "        print ('{}: {}'.format(k, v))"
   ]
  },
  {
   "cell_type": "code",
   "execution_count": 32,
   "metadata": {},
   "outputs": [
    {
     "name": "stdout",
     "output_type": "stream",
     "text": [
      "{'z1': 3, 'z2': [4, 5], 'z3': 'Hello', 'z4': ['Hi', 'Hello']}\n",
      "\n",
      "z1: 3\n",
      "z2: [4, 5]\n",
      "z3: Hello\n",
      "z4: ['Hi', 'Hello']\n"
     ]
    }
   ],
   "source": [
    "fn_dict(1, 2, z1=3, z2=[4, 5], z3='Hello', z4=['Hi', 'Hello'])"
   ]
  },
  {
   "cell_type": "markdown",
   "metadata": {},
   "source": [
    "- Lambda: 간단한 함수를 한 줄만으로 만듦 => lambda parameters: function의 형태"
   ]
  },
  {
   "cell_type": "code",
   "execution_count": 33,
   "metadata": {},
   "outputs": [
    {
     "name": "stdout",
     "output_type": "stream",
     "text": [
      "30\n"
     ]
    }
   ],
   "source": [
    "lmd = lambda x,y: x + y\n",
    "print (lmd(10,20))"
   ]
  },
  {
   "cell_type": "markdown",
   "metadata": {},
   "source": [
    "1. map (함수, 리스트)"
   ]
  },
  {
   "cell_type": "code",
   "execution_count": 34,
   "metadata": {},
   "outputs": [
    {
     "data": {
      "text/plain": [
       "[0, 1, 4, 9, 16]"
      ]
     },
     "execution_count": 34,
     "metadata": {},
     "output_type": "execute_result"
    }
   ],
   "source": [
    "lmd1 = lambda x: x ** 2\n",
    "list(map(lmd1, range(5)))"
   ]
  },
  {
   "cell_type": "markdown",
   "metadata": {},
   "source": [
    "2. filter (함수, 리스트)"
   ]
  },
  {
   "cell_type": "code",
   "execution_count": 35,
   "metadata": {},
   "outputs": [
    {
     "data": {
      "text/plain": [
       "[0, 1, 2, 3, 4]"
      ]
     },
     "execution_count": 35,
     "metadata": {},
     "output_type": "execute_result"
    }
   ],
   "source": [
    "lmd2 = lambda x: x < 5\n",
    "list(filter(lmd2, range(10)))"
   ]
  },
  {
   "cell_type": "markdown",
   "metadata": {},
   "source": [
    "# 클래스\n",
    "- 클래스 / 객체 / 생성자 / 메쏘드"
   ]
  },
  {
   "cell_type": "code",
   "execution_count": 36,
   "metadata": {},
   "outputs": [],
   "source": [
    "class Cls:\n",
    "    def __init__(self):\n",
    "        self.val = 0\n",
    "        \n",
    "    def view(self):\n",
    "        print (self.val)"
   ]
  },
  {
   "cell_type": "code",
   "execution_count": 37,
   "metadata": {},
   "outputs": [
    {
     "name": "stdout",
     "output_type": "stream",
     "text": [
      "0\n"
     ]
    }
   ],
   "source": [
    "f = Cls()\n",
    "f.view()"
   ]
  },
  {
   "cell_type": "code",
   "execution_count": 38,
   "metadata": {},
   "outputs": [],
   "source": [
    "class Cls:\n",
    "    def __init__(self, val):\n",
    "        self.val = val\n",
    "        \n",
    "    def view(self):\n",
    "        print (self.val)"
   ]
  },
  {
   "cell_type": "code",
   "execution_count": 39,
   "metadata": {},
   "outputs": [
    {
     "name": "stdout",
     "output_type": "stream",
     "text": [
      "3\n",
      "Hi\n"
     ]
    }
   ],
   "source": [
    "f1 = Cls(3)\n",
    "f1.view()\n",
    "\n",
    "f2 = Cls('Hi')\n",
    "f2.view()"
   ]
  },
  {
   "cell_type": "code",
   "execution_count": 40,
   "metadata": {},
   "outputs": [],
   "source": [
    "class Cls:\n",
    "    def __init__(self, x, y):\n",
    "        self.x = x\n",
    "        self.y = y\n",
    "        \n",
    "    def add(self):\n",
    "        print (self.x + self.y)\n",
    "        \n",
    "    def sub(self):\n",
    "        print (self.x - self.y)\n",
    "        \n",
    "    def mul(self):\n",
    "        print (self.x * self.y)\n",
    "        \n",
    "    def div(self):\n",
    "        print (self.x / self.y)"
   ]
  },
  {
   "cell_type": "code",
   "execution_count": 41,
   "metadata": {},
   "outputs": [
    {
     "name": "stdout",
     "output_type": "stream",
     "text": [
      "8\n",
      "2\n",
      "15\n",
      "1.6666666666666667\n"
     ]
    }
   ],
   "source": [
    "f = Cls(5,3)\n",
    "f.add()\n",
    "f.sub()\n",
    "f.mul()\n",
    "f.div()"
   ]
  },
  {
   "cell_type": "code",
   "execution_count": 42,
   "metadata": {},
   "outputs": [],
   "source": [
    "class Cls1:\n",
    "    def __init__(self, cls1_val):\n",
    "        self.cls1_val = cls1_val\n",
    "        \n",
    "    def view(self):\n",
    "        print (self.cls1_val)\n",
    "        \n",
    "class Cls2(Cls1):\n",
    "    def __init__(self, cls1_val, cls2_val):\n",
    "        super(Cls2, self).__init__(cls1_val)\n",
    "        self.cls2_val = cls2_val\n",
    "    \n",
    "    def view(self):\n",
    "        print(self.cls1_val, self.cls2_val)"
   ]
  },
  {
   "cell_type": "code",
   "execution_count": 43,
   "metadata": {},
   "outputs": [
    {
     "name": "stdout",
     "output_type": "stream",
     "text": [
      "3\n",
      "3 5\n"
     ]
    }
   ],
   "source": [
    "f1 = Cls1(3)\n",
    "f1.view()\n",
    "f2 = Cls2(3, 5)\n",
    "f2.view()"
   ]
  },
  {
   "cell_type": "markdown",
   "metadata": {},
   "source": [
    "- real pytorch form"
   ]
  },
  {
   "cell_type": "code",
   "execution_count": 44,
   "metadata": {},
   "outputs": [],
   "source": [
    "import torch.nn as nn"
   ]
  },
  {
   "cell_type": "code",
   "execution_count": 45,
   "metadata": {},
   "outputs": [],
   "source": [
    "class Net(nn.Module):\n",
    "    def __init__(self):\n",
    "        super(Net, self).__init__()\n",
    "        \n",
    "    def forward(self, x):\n",
    "        return x\n",
    "\n",
    "model = Net()"
   ]
  },
  {
   "cell_type": "markdown",
   "metadata": {},
   "source": [
    "# 파일 입출력\n",
    "- 입력: 2가지의 방법 존재"
   ]
  },
  {
   "cell_type": "code",
   "execution_count": 46,
   "metadata": {},
   "outputs": [
    {
     "name": "stdout",
     "output_type": "stream",
     "text": [
      "hello\n",
      "this is taehyeon\n"
     ]
    }
   ],
   "source": [
    "fp = open('text.txt', 'r')\n",
    "txt = fp.read()\n",
    "print(txt)\n",
    "fp.close()"
   ]
  },
  {
   "cell_type": "code",
   "execution_count": 47,
   "metadata": {},
   "outputs": [
    {
     "name": "stdout",
     "output_type": "stream",
     "text": [
      "hello\n",
      "this is taehyeon\n"
     ]
    }
   ],
   "source": [
    "with open('text.txt', 'r') as fp:\n",
    "    print (fp.read())"
   ]
  },
  {
   "cell_type": "markdown",
   "metadata": {},
   "source": [
    "- 출력: 2가지의 방법 존재"
   ]
  },
  {
   "cell_type": "code",
   "execution_count": 48,
   "metadata": {},
   "outputs": [],
   "source": [
    "fp = open('text.txt', 'w')\n",
    "txt = 'hello\\nthis is taehyeon'\n",
    "fp.write(txt)\n",
    "fp.close()"
   ]
  },
  {
   "cell_type": "code",
   "execution_count": 49,
   "metadata": {},
   "outputs": [],
   "source": [
    "with open('text.txt', 'w') as fp:\n",
    "    txt = 'hello\\nthis is taehyeon'\n",
    "    fp.write(txt)"
   ]
  }
 ],
 "metadata": {
  "kernelspec": {
   "display_name": "Python 3",
   "language": "python",
   "name": "python3"
  },
  "language_info": {
   "codemirror_mode": {
    "name": "ipython",
    "version": 3
   },
   "file_extension": ".py",
   "mimetype": "text/x-python",
   "name": "python",
   "nbconvert_exporter": "python",
   "pygments_lexer": "ipython3",
   "version": "3.7.3"
  }
 },
 "nbformat": 4,
 "nbformat_minor": 4
}
