{
 "cells": [
  {
   "cell_type": "markdown",
   "metadata": {},
   "source": [
    "# 사전 자료 2\n",
    "\n",
    "본 자료는 LG AI CAMP의 `LG Vision Module3`를 위한 두번째 사전 자료입니다.\n",
    "\n",
    "Pytorch를 사용하는 것에 아직 미숙함을 가지고 계실 분들을 위해 만들어본 자료입니다.\n",
    "\n",
    "본 자료는 http://www.numpy.org/ 를 참고하여 만들었습니다."
   ]
  },
  {
   "cell_type": "code",
   "execution_count": 1,
   "metadata": {},
   "outputs": [],
   "source": [
    "import torch"
   ]
  },
  {
   "cell_type": "code",
   "execution_count": 2,
   "metadata": {},
   "outputs": [],
   "source": [
    "data = torch.randn(2,3)"
   ]
  },
  {
   "cell_type": "markdown",
   "metadata": {},
   "source": [
    "### Pytorch는 NumPy를 GPU의 사용을 용이하게 하는 tool이다."
   ]
  },
  {
   "cell_type": "code",
   "execution_count": 3,
   "metadata": {},
   "outputs": [
    {
     "name": "stdout",
     "output_type": "stream",
     "text": [
      "tensor([[ 0.4702, -0.4447,  0.1563],\n",
      "        [-0.2237, -0.3004, -0.2547]])\n",
      "tensor([[ 2.3511, -2.2236,  0.7817],\n",
      "        [-1.1186, -1.5018, -1.2735]])\n",
      "tensor([[ 0.9404, -0.8894,  0.3127],\n",
      "        [-0.4474, -0.6007, -0.5094]])\n",
      "torch.Size([2, 3])\n",
      "torch.float32\n"
     ]
    }
   ],
   "source": [
    "print (data)\n",
    "print (data*5)\n",
    "print (data+data)\n",
    "print (data.shape)\n",
    "print (data.dtype)"
   ]
  },
  {
   "cell_type": "markdown",
   "metadata": {},
   "source": [
    "- Data를 생성하는 여러 방법"
   ]
  },
  {
   "cell_type": "code",
   "execution_count": 4,
   "metadata": {},
   "outputs": [
    {
     "name": "stdout",
     "output_type": "stream",
     "text": [
      "tensor([[0., 0., 0., 0.],\n",
      "        [0., 0., 0., 0.]])\n",
      "tensor([[1., 1., 1., 1.],\n",
      "        [1., 1., 1., 1.]])\n",
      "tensor([[1., 0., 0., 0.],\n",
      "        [0., 1., 0., 0.],\n",
      "        [0., 0., 1., 0.],\n",
      "        [0., 0., 0., 1.]])\n"
     ]
    }
   ],
   "source": [
    "data = torch.zeros([2,4])\n",
    "print (data)\n",
    "data = torch.ones([2,4])\n",
    "print (data)\n",
    "data = torch.eye(4)\n",
    "print (data)"
   ]
  },
  {
   "cell_type": "markdown",
   "metadata": {},
   "source": [
    "- list와 차이점 및 벡터 내적"
   ]
  },
  {
   "cell_type": "code",
   "execution_count": 5,
   "metadata": {},
   "outputs": [
    {
     "name": "stdout",
     "output_type": "stream",
     "text": [
      "[1, 2, 3, 4]\n",
      "tensor([4, 6])\n",
      "tensor([3, 8])\n",
      "tensor(10)\n",
      "tensor(11)\n",
      "tensor(11)\n"
     ]
    }
   ],
   "source": [
    "lst1 = [1, 2]\n",
    "lst2 = [3, 4]\n",
    "\n",
    "tor1 = torch.tensor([1, 2])\n",
    "tor2 = torch.tensor([3, 4])\n",
    "\n",
    "print (lst1 + lst2)\n",
    "print (tor1 + tor2)\n",
    "print (tor1 * tor2)\n",
    "\n",
    "print (sum(tor1 + tor2))\n",
    "print (tor1.dot(tor2))\n",
    "print (torch.matmul(tor1.view(1,-1), tor2)[0])"
   ]
  },
  {
   "cell_type": "markdown",
   "metadata": {},
   "source": [
    "- 매트릭스의 곱 (Matrix Multiplication)"
   ]
  },
  {
   "cell_type": "code",
   "execution_count": 6,
   "metadata": {},
   "outputs": [
    {
     "name": "stdout",
     "output_type": "stream",
     "text": [
      "tensor([[2, 5, 8],\n",
      "        [5, 3, 1]])\n",
      "tensor([[3, 2],\n",
      "        [5, 4],\n",
      "        [7, 8]])\n",
      "tensor([[87, 88],\n",
      "        [37, 30]])\n"
     ]
    }
   ],
   "source": [
    "mat1 = torch.tensor([[2, 5, 8], [5, 3, 1]])\n",
    "mat2 = torch.tensor([[3, 2], [5, 4], [7, 8]])\n",
    "print (mat1)\n",
    "print (mat2)\n",
    "print (torch.matmul(mat1, mat2))"
   ]
  },
  {
   "cell_type": "markdown",
   "metadata": {},
   "source": [
    "- 인덱싱 / 슬라이싱"
   ]
  },
  {
   "cell_type": "code",
   "execution_count": 7,
   "metadata": {},
   "outputs": [
    {
     "name": "stdout",
     "output_type": "stream",
     "text": [
      "tensor([[-0.5011,  0.1630,  0.8407],\n",
      "        [-1.2758, -0.0138,  0.9657],\n",
      "        [-0.3524,  0.3903,  0.9138],\n",
      "        [ 0.1925,  0.4548,  0.3561]])\n",
      "tensor([-0.3524,  0.3903,  0.9138])\n",
      "tensor([ 0.1630, -0.0138,  0.3903,  0.4548])\n",
      "tensor(0.3903)\n"
     ]
    }
   ],
   "source": [
    "data = torch.randn(4,3)\n",
    "print (data)\n",
    "print (data[2, :])\n",
    "print (data[:, 1])\n",
    "print (data[2][1])"
   ]
  },
  {
   "cell_type": "markdown",
   "metadata": {},
   "source": [
    "- 기본적인 통계 관련 함수  "
   ]
  },
  {
   "cell_type": "code",
   "execution_count": 8,
   "metadata": {},
   "outputs": [
    {
     "name": "stdout",
     "output_type": "stream",
     "text": [
      "tensor(2.1337)\n",
      "tensor(0.1778)\n",
      "tensor(0.4225)\n",
      "tensor(0.6500)\n",
      "\n",
      "2.133742332458496\n",
      "0.177811861038208\n",
      "0.42252153158187866\n",
      "0.6500165462493896\n"
     ]
    }
   ],
   "source": [
    "print (torch.sum(data))\n",
    "print (torch.mean(data))\n",
    "print (torch.var(data))\n",
    "print (torch.std(data))\n",
    "print ()\n",
    "print (torch.sum(data).item())\n",
    "print (torch.mean(data).item())\n",
    "print (torch.var(data).item())\n",
    "print (torch.std(data).item())"
   ]
  },
  {
   "cell_type": "markdown",
   "metadata": {},
   "source": [
    "- Pytorch 조건문"
   ]
  },
  {
   "cell_type": "code",
   "execution_count": 9,
   "metadata": {},
   "outputs": [
    {
     "name": "stdout",
     "output_type": "stream",
     "text": [
      "tensor([[0., 1., 1.],\n",
      "        [0., 0., 1.],\n",
      "        [0., 1., 1.],\n",
      "        [1., 1., 1.]])\n"
     ]
    }
   ],
   "source": [
    "print (torch.where(data>0, torch.ones(data.shape), torch.zeros(data.shape)))"
   ]
  },
  {
   "cell_type": "markdown",
   "metadata": {},
   "source": [
    "- Numpy와 호환 "
   ]
  },
  {
   "cell_type": "code",
   "execution_count": 10,
   "metadata": {},
   "outputs": [],
   "source": [
    "import numpy"
   ]
  },
  {
   "cell_type": "code",
   "execution_count": 11,
   "metadata": {},
   "outputs": [
    {
     "name": "stdout",
     "output_type": "stream",
     "text": [
      "tensor([1., 1., 1., 1., 1.])\n",
      "[1. 1. 1. 1. 1.]\n",
      "tensor([1., 1., 1., 1., 1.])\n"
     ]
    }
   ],
   "source": [
    "a = torch.ones(5)\n",
    "print (a)\n",
    "b = a.numpy()\n",
    "print (b)\n",
    "a = torch.from_numpy(b)\n",
    "print (a)"
   ]
  },
  {
   "cell_type": "markdown",
   "metadata": {},
   "source": [
    "### GPU의 사용"
   ]
  },
  {
   "cell_type": "code",
   "execution_count": 12,
   "metadata": {},
   "outputs": [
    {
     "name": "stdout",
     "output_type": "stream",
     "text": [
      "True\n",
      "2\n"
     ]
    }
   ],
   "source": [
    "print (torch.cuda.is_available())\n",
    "print (torch.cuda.device_count())"
   ]
  },
  {
   "cell_type": "code",
   "execution_count": 13,
   "metadata": {},
   "outputs": [
    {
     "name": "stdout",
     "output_type": "stream",
     "text": [
      "tensor([1, 1], device='cuda:0')\n",
      "tensor([1, 1])\n"
     ]
    }
   ],
   "source": [
    "x = torch.tensor([1,1]).cuda()\n",
    "print (x)\n",
    "x = x.cpu()\n",
    "print (x)"
   ]
  },
  {
   "cell_type": "code",
   "execution_count": 14,
   "metadata": {},
   "outputs": [
    {
     "name": "stdout",
     "output_type": "stream",
     "text": [
      "tensor([2.], requires_grad=True)\n",
      "tensor([1.], requires_grad=True)\n",
      "tensor([3.], grad_fn=<AddBackward0>)\n",
      "tensor([2.], grad_fn=<AddBackward0>)\n",
      "tensor([6.], grad_fn=<MulBackward0>)\n"
     ]
    }
   ],
   "source": [
    "# Computational Graph\n",
    "a = torch.tensor([2.], requires_grad = True)\n",
    "b = torch.tensor([1.], requires_grad = True)\n",
    "c = a + b\n",
    "d = b + 1\n",
    "e = c * d\n",
    "print (a)\n",
    "print (b)\n",
    "print (c)\n",
    "print (d)\n",
    "print (e)"
   ]
  },
  {
   "cell_type": "code",
   "execution_count": 15,
   "metadata": {},
   "outputs": [
    {
     "name": "stdout",
     "output_type": "stream",
     "text": [
      "tensor([2.])\n",
      "None\n",
      "None\n"
     ]
    }
   ],
   "source": [
    "print (a.data)\n",
    "print (a.grad)\n",
    "print (a.grad_fn)"
   ]
  },
  {
   "cell_type": "code",
   "execution_count": 16,
   "metadata": {},
   "outputs": [],
   "source": [
    "e.backward(retain_graph=True) # gradient가 계산됨."
   ]
  },
  {
   "cell_type": "code",
   "execution_count": 17,
   "metadata": {},
   "outputs": [
    {
     "name": "stdout",
     "output_type": "stream",
     "text": [
      "tensor([2.])\n",
      "tensor([5.])\n",
      "None\n",
      "None\n",
      "None\n"
     ]
    },
    {
     "name": "stderr",
     "output_type": "stream",
     "text": [
      "/home/taehyeon/anaconda3/lib/python3.7/site-packages/torch/tensor.py:746: UserWarning: The .grad attribute of a Tensor that is not a leaf Tensor is being accessed. Its .grad attribute won't be populated during autograd.backward(). If you indeed want the gradient for a non-leaf Tensor, use .retain_grad() on the non-leaf Tensor. If you access the non-leaf Tensor by mistake, make sure you access the leaf Tensor instead. See github.com/pytorch/pytorch/pull/30531 for more informations.\n",
      "  warnings.warn(\"The .grad attribute of a Tensor that is not a leaf Tensor is being accessed. Its .grad \"\n"
     ]
    }
   ],
   "source": [
    "print (a.grad)\n",
    "print (b.grad)\n",
    "print (c.grad)\n",
    "print (d.grad)\n",
    "print (e.grad)"
   ]
  },
  {
   "cell_type": "code",
   "execution_count": 18,
   "metadata": {},
   "outputs": [],
   "source": [
    "# Computational Graph\n",
    "a = torch.tensor([2.], requires_grad = True)\n",
    "b = torch.tensor([1.], requires_grad = True)\n",
    "c = a + b\n",
    "d = b + 1\n",
    "e = c * d\n",
    "\n",
    "c.retain_grad()\n",
    "d.retain_grad()\n",
    "e.retain_grad()"
   ]
  },
  {
   "cell_type": "code",
   "execution_count": 19,
   "metadata": {},
   "outputs": [],
   "source": [
    "e.backward(retain_graph=True)"
   ]
  },
  {
   "cell_type": "code",
   "execution_count": 20,
   "metadata": {},
   "outputs": [
    {
     "name": "stdout",
     "output_type": "stream",
     "text": [
      "tensor([2.])\n",
      "tensor([5.])\n",
      "tensor([2.])\n",
      "tensor([3.])\n",
      "tensor([1.])\n"
     ]
    }
   ],
   "source": [
    "print (a.grad)\n",
    "print (b.grad)\n",
    "print (c.grad)\n",
    "print (d.grad)\n",
    "print (e.grad)"
   ]
  },
  {
   "cell_type": "code",
   "execution_count": 21,
   "metadata": {},
   "outputs": [
    {
     "name": "stdout",
     "output_type": "stream",
     "text": [
      "tensor([0.])\n",
      "tensor([0.])\n",
      "tensor([0.])\n",
      "tensor([0.])\n",
      "tensor([0.])\n"
     ]
    }
   ],
   "source": [
    "a.grad.zero_()\n",
    "b.grad.zero_()\n",
    "c.grad.zero_()\n",
    "d.grad.zero_()\n",
    "e.grad.zero_()\n",
    "\n",
    "print (a.grad)\n",
    "print (b.grad)\n",
    "print (c.grad)\n",
    "print (d.grad)\n",
    "print (e.grad)"
   ]
  },
  {
   "cell_type": "code",
   "execution_count": 22,
   "metadata": {},
   "outputs": [
    {
     "name": "stdout",
     "output_type": "stream",
     "text": [
      "False\n"
     ]
    }
   ],
   "source": [
    "a = a.detach()\n",
    "print (a.requires_grad)"
   ]
  },
  {
   "cell_type": "code",
   "execution_count": 23,
   "metadata": {},
   "outputs": [],
   "source": [
    "import torch.nn as nn\n",
    "import torch.optim as optim"
   ]
  },
  {
   "cell_type": "code",
   "execution_count": 24,
   "metadata": {},
   "outputs": [],
   "source": [
    "class Net(nn.Module):\n",
    "    def __init__(self):\n",
    "        super(Net, self).__init__()\n",
    "        self.conv1 = nn.Conv2d(1, 6, 5)\n",
    "        self.act1 = nn.ReLU()\n",
    "        self.pool1 = nn.MaxPool2d(2)\n",
    "        self.conv2 = nn.Conv2d(6, 16, 5)\n",
    "        self.act2 = nn.ReLU()\n",
    "        self.pool2 = nn.MaxPool2d(2)\n",
    "        \n",
    "        self.fc1 = nn.Linear(16 * 5 * 5, 120)\n",
    "        self.fc_act1 = nn.ReLU()\n",
    "        self.fc2 = nn.Linear(120, 84)\n",
    "        self.fc_act2 = nn.ReLU()\n",
    "        self.fc3 = nn.Linear(84, 10)\n",
    "    \n",
    "    def forward(self, x):\n",
    "        # Max-pooling over a (2,2) window.\n",
    "        x = self.pool1(self.act1(self.conv1(x)))\n",
    "        x = self.pool2(self.act2(self.conv2(x)))\n",
    "        x = x.view(x.shape[0], -1)\n",
    "        x = self.fc_act1(self.fc1(x))\n",
    "        x = self.fc_act2(self.fc2(x))\n",
    "        out = self.fc3(x)\n",
    "        \n",
    "        return out"
   ]
  },
  {
   "cell_type": "code",
   "execution_count": 25,
   "metadata": {},
   "outputs": [
    {
     "name": "stdout",
     "output_type": "stream",
     "text": [
      "Net(\n",
      "  (conv1): Conv2d(1, 6, kernel_size=(5, 5), stride=(1, 1))\n",
      "  (act1): ReLU()\n",
      "  (pool1): MaxPool2d(kernel_size=2, stride=2, padding=0, dilation=1, ceil_mode=False)\n",
      "  (conv2): Conv2d(6, 16, kernel_size=(5, 5), stride=(1, 1))\n",
      "  (act2): ReLU()\n",
      "  (pool2): MaxPool2d(kernel_size=2, stride=2, padding=0, dilation=1, ceil_mode=False)\n",
      "  (fc1): Linear(in_features=400, out_features=120, bias=True)\n",
      "  (fc_act1): ReLU()\n",
      "  (fc2): Linear(in_features=120, out_features=84, bias=True)\n",
      "  (fc_act2): ReLU()\n",
      "  (fc3): Linear(in_features=84, out_features=10, bias=True)\n",
      ")\n"
     ]
    }
   ],
   "source": [
    "net = Net()\n",
    "print (net)"
   ]
  },
  {
   "cell_type": "code",
   "execution_count": 26,
   "metadata": {},
   "outputs": [
    {
     "name": "stdout",
     "output_type": "stream",
     "text": [
      "10\n",
      "torch.Size([6, 1, 5, 5])\n"
     ]
    }
   ],
   "source": [
    "params = list(net.parameters())\n",
    "print (len(params))\n",
    "print (params[0].size())"
   ]
  },
  {
   "cell_type": "markdown",
   "metadata": {},
   "source": [
    "1. net instance에서 direct하게 접근"
   ]
  },
  {
   "cell_type": "code",
   "execution_count": 27,
   "metadata": {},
   "outputs": [
    {
     "name": "stdout",
     "output_type": "stream",
     "text": [
      "Parameter containing:\n",
      "tensor([[[[ 0.0387,  0.1513, -0.0147,  0.1962,  0.1955],\n",
      "          [-0.0260,  0.0193, -0.0515,  0.0075,  0.0304],\n",
      "          [-0.1833, -0.0489,  0.0387,  0.1472,  0.1698],\n",
      "          [-0.1144,  0.1277,  0.1011,  0.1764,  0.1072],\n",
      "          [-0.0120, -0.0923, -0.0234,  0.0870,  0.0626]]],\n",
      "\n",
      "\n",
      "        [[[ 0.1387,  0.0401, -0.0980, -0.1611,  0.1129],\n",
      "          [ 0.0289, -0.0007, -0.0945, -0.1503,  0.1114],\n",
      "          [ 0.0186,  0.1943,  0.0652, -0.1153,  0.0774],\n",
      "          [ 0.1990, -0.1820,  0.0460,  0.0894,  0.1580],\n",
      "          [-0.1412, -0.1211,  0.0461,  0.0071, -0.1149]]],\n",
      "\n",
      "\n",
      "        [[[-0.0011,  0.1744,  0.0682,  0.0382, -0.1025],\n",
      "          [-0.1173,  0.0529,  0.0178, -0.0819,  0.1056],\n",
      "          [-0.0543, -0.1549, -0.0848, -0.1929, -0.1825],\n",
      "          [-0.0309, -0.1547, -0.0529,  0.0718,  0.1072],\n",
      "          [-0.1975, -0.0190, -0.1968,  0.0031, -0.0641]]],\n",
      "\n",
      "\n",
      "        [[[ 0.1748, -0.1888, -0.0156, -0.1219,  0.0384],\n",
      "          [ 0.1285, -0.1054, -0.1444,  0.1724, -0.0255],\n",
      "          [ 0.0244,  0.1491,  0.0006,  0.1516,  0.1702],\n",
      "          [ 0.1032,  0.0825, -0.0711,  0.0043, -0.1188],\n",
      "          [ 0.1977, -0.1987,  0.0094, -0.1840, -0.0529]]],\n",
      "\n",
      "\n",
      "        [[[-0.0304,  0.1056,  0.0222, -0.0429, -0.1558],\n",
      "          [ 0.0826, -0.1049, -0.1257,  0.0545,  0.0285],\n",
      "          [ 0.0495, -0.1152,  0.0192,  0.0803,  0.0762],\n",
      "          [-0.1123, -0.1197, -0.1937,  0.1909,  0.0280],\n",
      "          [ 0.0677,  0.0678, -0.1466, -0.1806,  0.1726]]],\n",
      "\n",
      "\n",
      "        [[[ 0.1514,  0.0631, -0.1404, -0.0866, -0.1321],\n",
      "          [-0.0941,  0.1762, -0.0589, -0.0407, -0.1643],\n",
      "          [ 0.0575,  0.1834,  0.0455,  0.0315, -0.0757],\n",
      "          [ 0.0880, -0.0014,  0.1682,  0.1179,  0.1826],\n",
      "          [-0.1639, -0.0140, -0.0120,  0.0236, -0.1489]]]], requires_grad=True)\n"
     ]
    }
   ],
   "source": [
    "print (net.conv1.weight)"
   ]
  },
  {
   "cell_type": "code",
   "execution_count": 28,
   "metadata": {},
   "outputs": [
    {
     "name": "stdout",
     "output_type": "stream",
     "text": [
      "Parameter containing:\n",
      "tensor([[[[ 0.0387,  0.1513, -0.0147,  0.1962,  0.1955],\n",
      "          [-0.0260,  0.0193, -0.0515,  0.0075,  0.0304],\n",
      "          [-0.1833, -0.0489,  0.0387,  0.1472,  0.1698],\n",
      "          [-0.1144,  0.1277,  0.1011,  0.1764,  0.1072],\n",
      "          [-0.0120, -0.0923, -0.0234,  0.0870,  0.0626]]],\n",
      "\n",
      "\n",
      "        [[[ 0.1387,  0.0401, -0.0980, -0.1611,  0.1129],\n",
      "          [ 0.0289, -0.0007, -0.0945, -0.1503,  0.1114],\n",
      "          [ 0.0186,  0.1943,  0.0652, -0.1153,  0.0774],\n",
      "          [ 0.1990, -0.1820,  0.0460,  0.0894,  0.1580],\n",
      "          [-0.1412, -0.1211,  0.0461,  0.0071, -0.1149]]],\n",
      "\n",
      "\n",
      "        [[[-0.0011,  0.1744,  0.0682,  0.0382, -0.1025],\n",
      "          [-0.1173,  0.0529,  0.0178, -0.0819,  0.1056],\n",
      "          [-0.0543, -0.1549, -0.0848, -0.1929, -0.1825],\n",
      "          [-0.0309, -0.1547, -0.0529,  0.0718,  0.1072],\n",
      "          [-0.1975, -0.0190, -0.1968,  0.0031, -0.0641]]],\n",
      "\n",
      "\n",
      "        [[[ 0.1748, -0.1888, -0.0156, -0.1219,  0.0384],\n",
      "          [ 0.1285, -0.1054, -0.1444,  0.1724, -0.0255],\n",
      "          [ 0.0244,  0.1491,  0.0006,  0.1516,  0.1702],\n",
      "          [ 0.1032,  0.0825, -0.0711,  0.0043, -0.1188],\n",
      "          [ 0.1977, -0.1987,  0.0094, -0.1840, -0.0529]]],\n",
      "\n",
      "\n",
      "        [[[-0.0304,  0.1056,  0.0222, -0.0429, -0.1558],\n",
      "          [ 0.0826, -0.1049, -0.1257,  0.0545,  0.0285],\n",
      "          [ 0.0495, -0.1152,  0.0192,  0.0803,  0.0762],\n",
      "          [-0.1123, -0.1197, -0.1937,  0.1909,  0.0280],\n",
      "          [ 0.0677,  0.0678, -0.1466, -0.1806,  0.1726]]],\n",
      "\n",
      "\n",
      "        [[[ 0.1514,  0.0631, -0.1404, -0.0866, -0.1321],\n",
      "          [-0.0941,  0.1762, -0.0589, -0.0407, -0.1643],\n",
      "          [ 0.0575,  0.1834,  0.0455,  0.0315, -0.0757],\n",
      "          [ 0.0880, -0.0014,  0.1682,  0.1179,  0.1826],\n",
      "          [-0.1639, -0.0140, -0.0120,  0.0236, -0.1489]]]], requires_grad=True)\n"
     ]
    }
   ],
   "source": [
    "print (params[0])"
   ]
  },
  {
   "cell_type": "code",
   "execution_count": 29,
   "metadata": {},
   "outputs": [
    {
     "name": "stdout",
     "output_type": "stream",
     "text": [
      "tensor(1.1050, grad_fn=<MseLossBackward>)\n"
     ]
    }
   ],
   "source": [
    "batch_size = 10\n",
    "input = torch.randn(batch_size, 1, 32, 32)\n",
    "output = net(input)\n",
    "\n",
    "target = torch.randn(batch_size, 10)\n",
    "criterion = nn.MSELoss()\n",
    "\n",
    "loss = criterion(output, target)\n",
    "print(loss)"
   ]
  },
  {
   "cell_type": "code",
   "execution_count": 42,
   "metadata": {},
   "outputs": [
    {
     "name": "stdout",
     "output_type": "stream",
     "text": [
      "conv1.bias.grad before backward\n",
      "None\n",
      "conv1.bias.grad after backward\n",
      "tensor([-0.0025, -0.0003,  0.0020,  0.0048,  0.0058,  0.0038])\n"
     ]
    }
   ],
   "source": [
    "net.zero_grad()\n",
    "\n",
    "print ('conv1.bias.grad before backward')\n",
    "print (net.conv1.bias.grad)\n",
    "\n",
    "loss.backward()\n",
    "\n",
    "print ('conv1.bias.grad after backward')\n",
    "print (net.conv1.bias.grad)"
   ]
  },
  {
   "cell_type": "code",
   "execution_count": 44,
   "metadata": {},
   "outputs": [],
   "source": [
    "learning_rate = 0.01\n",
    "for param in net.parameters():\n",
    "    param.data.sub_(param.grad.data * learning_rate)"
   ]
  },
  {
   "cell_type": "code",
   "execution_count": 45,
   "metadata": {},
   "outputs": [],
   "source": [
    "# Create your optimizer\n",
    "optimizer = optim.SGD(net.parameters(), lr=0.01)\n",
    "\n",
    "# In your training loop:\n",
    "num_epochs = 100\n",
    "for i in range(num_epochs):\n",
    "    optimizer.zero_grad()\n",
    "    output = net(input)\n",
    "    loss = criterion(output, target)\n",
    "    loss.backward() # Calculate the gradients\n",
    "    optimizer.step()"
   ]
  }
 ],
 "metadata": {
  "kernelspec": {
   "display_name": "Python 3",
   "language": "python",
   "name": "python3"
  },
  "language_info": {
   "codemirror_mode": {
    "name": "ipython",
    "version": 3
   },
   "file_extension": ".py",
   "mimetype": "text/x-python",
   "name": "python",
   "nbconvert_exporter": "python",
   "pygments_lexer": "ipython3",
   "version": "3.7.3"
  }
 },
 "nbformat": 4,
 "nbformat_minor": 4
}
